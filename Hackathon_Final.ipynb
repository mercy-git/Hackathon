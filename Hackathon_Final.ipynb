{
 "cells": [
  {
   "cell_type": "markdown",
   "id": "73448e5a",
   "metadata": {},
   "source": [
    "# Import"
   ]
  },
  {
   "cell_type": "code",
   "execution_count": 1,
   "id": "f98566e7",
   "metadata": {},
   "outputs": [],
   "source": [
    "import pandas as pd\n",
    "import numpy as np\n",
    "import seaborn as sns\n",
    "import matplotlib.pyplot as plt\n",
    "import re\n",
    "from warnings import filterwarnings\n",
    "\n",
    "from sklearn.model_selection import train_test_split\n",
    "from sklearn.impute import KNNImputer  \n",
    "from scipy.special import inv_boxcox\n",
    "\n",
    "filterwarnings('ignore')\n",
    "%matplotlib inline"
   ]
  },
  {
   "cell_type": "markdown",
   "id": "f42c0470",
   "metadata": {},
   "source": [
    "# Read the training data"
   ]
  },
  {
   "cell_type": "code",
   "execution_count": 2,
   "id": "cc720c4a",
   "metadata": {
    "scrolled": false
   },
   "outputs": [
    {
     "name": "stdout",
     "output_type": "stream",
     "text": [
      "(10656, 10)\n"
     ]
    },
    {
     "data": {
      "text/html": [
       "<div>\n",
       "<style scoped>\n",
       "    .dataframe tbody tr th:only-of-type {\n",
       "        vertical-align: middle;\n",
       "    }\n",
       "\n",
       "    .dataframe tbody tr th {\n",
       "        vertical-align: top;\n",
       "    }\n",
       "\n",
       "    .dataframe thead th {\n",
       "        text-align: right;\n",
       "    }\n",
       "</style>\n",
       "<table border=\"1\" class=\"dataframe\">\n",
       "  <thead>\n",
       "    <tr style=\"text-align: right;\">\n",
       "      <th></th>\n",
       "      <th>ID</th>\n",
       "      <th>area_type</th>\n",
       "      <th>availability</th>\n",
       "      <th>location</th>\n",
       "      <th>size</th>\n",
       "      <th>society</th>\n",
       "      <th>total_sqft</th>\n",
       "      <th>bath</th>\n",
       "      <th>balcony</th>\n",
       "      <th>price</th>\n",
       "    </tr>\n",
       "  </thead>\n",
       "  <tbody>\n",
       "    <tr>\n",
       "      <th>0</th>\n",
       "      <td>0</td>\n",
       "      <td>Super built-up  Area</td>\n",
       "      <td>19-Dec</td>\n",
       "      <td>Electronic City Phase II</td>\n",
       "      <td>2 BHK</td>\n",
       "      <td>Coomee</td>\n",
       "      <td>1056</td>\n",
       "      <td>2.0</td>\n",
       "      <td>1.0</td>\n",
       "      <td>39.07</td>\n",
       "    </tr>\n",
       "    <tr>\n",
       "      <th>1</th>\n",
       "      <td>1</td>\n",
       "      <td>Plot  Area</td>\n",
       "      <td>Ready To Move</td>\n",
       "      <td>Chikka Tirupathi</td>\n",
       "      <td>4 Bedroom</td>\n",
       "      <td>Theanmp</td>\n",
       "      <td>2600</td>\n",
       "      <td>5.0</td>\n",
       "      <td>3.0</td>\n",
       "      <td>120.00</td>\n",
       "    </tr>\n",
       "    <tr>\n",
       "      <th>2</th>\n",
       "      <td>2</td>\n",
       "      <td>Built-up  Area</td>\n",
       "      <td>Ready To Move</td>\n",
       "      <td>Uttarahalli</td>\n",
       "      <td>3 BHK</td>\n",
       "      <td>NaN</td>\n",
       "      <td>1440</td>\n",
       "      <td>2.0</td>\n",
       "      <td>3.0</td>\n",
       "      <td>62.00</td>\n",
       "    </tr>\n",
       "    <tr>\n",
       "      <th>3</th>\n",
       "      <td>3</td>\n",
       "      <td>Super built-up  Area</td>\n",
       "      <td>Ready To Move</td>\n",
       "      <td>Lingadheeranahalli</td>\n",
       "      <td>3 BHK</td>\n",
       "      <td>Soiewre</td>\n",
       "      <td>1521</td>\n",
       "      <td>3.0</td>\n",
       "      <td>1.0</td>\n",
       "      <td>95.00</td>\n",
       "    </tr>\n",
       "    <tr>\n",
       "      <th>4</th>\n",
       "      <td>4</td>\n",
       "      <td>Super built-up  Area</td>\n",
       "      <td>Ready To Move</td>\n",
       "      <td>Kothanur</td>\n",
       "      <td>2 BHK</td>\n",
       "      <td>NaN</td>\n",
       "      <td>1200</td>\n",
       "      <td>2.0</td>\n",
       "      <td>1.0</td>\n",
       "      <td>51.00</td>\n",
       "    </tr>\n",
       "  </tbody>\n",
       "</table>\n",
       "</div>"
      ],
      "text/plain": [
       "   ID             area_type   availability                  location  \\\n",
       "0   0  Super built-up  Area         19-Dec  Electronic City Phase II   \n",
       "1   1            Plot  Area  Ready To Move          Chikka Tirupathi   \n",
       "2   2        Built-up  Area  Ready To Move               Uttarahalli   \n",
       "3   3  Super built-up  Area  Ready To Move        Lingadheeranahalli   \n",
       "4   4  Super built-up  Area  Ready To Move                  Kothanur   \n",
       "\n",
       "        size  society total_sqft  bath  balcony   price  \n",
       "0      2 BHK  Coomee        1056   2.0      1.0   39.07  \n",
       "1  4 Bedroom  Theanmp       2600   5.0      3.0  120.00  \n",
       "2      3 BHK      NaN       1440   2.0      3.0   62.00  \n",
       "3      3 BHK  Soiewre       1521   3.0      1.0   95.00  \n",
       "4      2 BHK      NaN       1200   2.0      1.0   51.00  "
      ]
     },
     "execution_count": 2,
     "metadata": {},
     "output_type": "execute_result"
    }
   ],
   "source": [
    "train_df = pd.read_csv('train.csv')\n",
    "print(train_df.shape)\n",
    "train_df.head()"
   ]
  },
  {
   "cell_type": "code",
   "execution_count": 3,
   "id": "e59686bb",
   "metadata": {},
   "outputs": [
    {
     "data": {
      "text/html": [
       "<div>\n",
       "<style scoped>\n",
       "    .dataframe tbody tr th:only-of-type {\n",
       "        vertical-align: middle;\n",
       "    }\n",
       "\n",
       "    .dataframe tbody tr th {\n",
       "        vertical-align: top;\n",
       "    }\n",
       "\n",
       "    .dataframe thead th {\n",
       "        text-align: right;\n",
       "    }\n",
       "</style>\n",
       "<table border=\"1\" class=\"dataframe\">\n",
       "  <thead>\n",
       "    <tr style=\"text-align: right;\">\n",
       "      <th></th>\n",
       "      <th>ID</th>\n",
       "      <th>bath</th>\n",
       "      <th>balcony</th>\n",
       "      <th>price</th>\n",
       "    </tr>\n",
       "  </thead>\n",
       "  <tbody>\n",
       "    <tr>\n",
       "      <th>count</th>\n",
       "      <td>10656.000000</td>\n",
       "      <td>10591.000000</td>\n",
       "      <td>10152.000000</td>\n",
       "      <td>10656.000000</td>\n",
       "    </tr>\n",
       "    <tr>\n",
       "      <th>mean</th>\n",
       "      <td>5327.500000</td>\n",
       "      <td>2.690586</td>\n",
       "      <td>1.581757</td>\n",
       "      <td>112.214256</td>\n",
       "    </tr>\n",
       "    <tr>\n",
       "      <th>std</th>\n",
       "      <td>3076.266568</td>\n",
       "      <td>1.352403</td>\n",
       "      <td>0.821357</td>\n",
       "      <td>142.231967</td>\n",
       "    </tr>\n",
       "    <tr>\n",
       "      <th>min</th>\n",
       "      <td>0.000000</td>\n",
       "      <td>1.000000</td>\n",
       "      <td>0.000000</td>\n",
       "      <td>8.000000</td>\n",
       "    </tr>\n",
       "    <tr>\n",
       "      <th>25%</th>\n",
       "      <td>2663.750000</td>\n",
       "      <td>2.000000</td>\n",
       "      <td>1.000000</td>\n",
       "      <td>50.000000</td>\n",
       "    </tr>\n",
       "    <tr>\n",
       "      <th>50%</th>\n",
       "      <td>5327.500000</td>\n",
       "      <td>2.000000</td>\n",
       "      <td>2.000000</td>\n",
       "      <td>72.000000</td>\n",
       "    </tr>\n",
       "    <tr>\n",
       "      <th>75%</th>\n",
       "      <td>7991.250000</td>\n",
       "      <td>3.000000</td>\n",
       "      <td>2.000000</td>\n",
       "      <td>120.000000</td>\n",
       "    </tr>\n",
       "    <tr>\n",
       "      <th>max</th>\n",
       "      <td>10655.000000</td>\n",
       "      <td>40.000000</td>\n",
       "      <td>3.000000</td>\n",
       "      <td>2700.000000</td>\n",
       "    </tr>\n",
       "  </tbody>\n",
       "</table>\n",
       "</div>"
      ],
      "text/plain": [
       "                 ID          bath       balcony         price\n",
       "count  10656.000000  10591.000000  10152.000000  10656.000000\n",
       "mean    5327.500000      2.690586      1.581757    112.214256\n",
       "std     3076.266568      1.352403      0.821357    142.231967\n",
       "min        0.000000      1.000000      0.000000      8.000000\n",
       "25%     2663.750000      2.000000      1.000000     50.000000\n",
       "50%     5327.500000      2.000000      2.000000     72.000000\n",
       "75%     7991.250000      3.000000      2.000000    120.000000\n",
       "max    10655.000000     40.000000      3.000000   2700.000000"
      ]
     },
     "execution_count": 3,
     "metadata": {},
     "output_type": "execute_result"
    }
   ],
   "source": [
    "train_df.describe()"
   ]
  },
  {
   "cell_type": "code",
   "execution_count": 4,
   "id": "b582cfbb",
   "metadata": {
    "scrolled": true
   },
   "outputs": [
    {
     "data": {
      "text/html": [
       "<div>\n",
       "<style scoped>\n",
       "    .dataframe tbody tr th:only-of-type {\n",
       "        vertical-align: middle;\n",
       "    }\n",
       "\n",
       "    .dataframe tbody tr th {\n",
       "        vertical-align: top;\n",
       "    }\n",
       "\n",
       "    .dataframe thead th {\n",
       "        text-align: right;\n",
       "    }\n",
       "</style>\n",
       "<table border=\"1\" class=\"dataframe\">\n",
       "  <thead>\n",
       "    <tr style=\"text-align: right;\">\n",
       "      <th></th>\n",
       "      <th>area_type</th>\n",
       "      <th>availability</th>\n",
       "      <th>location</th>\n",
       "      <th>size</th>\n",
       "      <th>society</th>\n",
       "      <th>total_sqft</th>\n",
       "    </tr>\n",
       "  </thead>\n",
       "  <tbody>\n",
       "    <tr>\n",
       "      <th>count</th>\n",
       "      <td>10656</td>\n",
       "      <td>10656</td>\n",
       "      <td>10655</td>\n",
       "      <td>10642</td>\n",
       "      <td>6228</td>\n",
       "      <td>10656</td>\n",
       "    </tr>\n",
       "    <tr>\n",
       "      <th>unique</th>\n",
       "      <td>4</td>\n",
       "      <td>79</td>\n",
       "      <td>1197</td>\n",
       "      <td>30</td>\n",
       "      <td>2364</td>\n",
       "      <td>1923</td>\n",
       "    </tr>\n",
       "    <tr>\n",
       "      <th>top</th>\n",
       "      <td>Super built-up  Area</td>\n",
       "      <td>Ready To Move</td>\n",
       "      <td>Whitefield</td>\n",
       "      <td>2 BHK</td>\n",
       "      <td>GrrvaGr</td>\n",
       "      <td>1200</td>\n",
       "    </tr>\n",
       "    <tr>\n",
       "      <th>freq</th>\n",
       "      <td>7009</td>\n",
       "      <td>8468</td>\n",
       "      <td>433</td>\n",
       "      <td>4146</td>\n",
       "      <td>70</td>\n",
       "      <td>667</td>\n",
       "    </tr>\n",
       "  </tbody>\n",
       "</table>\n",
       "</div>"
      ],
      "text/plain": [
       "                   area_type   availability    location   size  society  \\\n",
       "count                  10656          10656       10655  10642     6228   \n",
       "unique                     4             79        1197     30     2364   \n",
       "top     Super built-up  Area  Ready To Move  Whitefield  2 BHK  GrrvaGr   \n",
       "freq                    7009           8468         433   4146       70   \n",
       "\n",
       "       total_sqft  \n",
       "count       10656  \n",
       "unique       1923  \n",
       "top          1200  \n",
       "freq          667  "
      ]
     },
     "execution_count": 4,
     "metadata": {},
     "output_type": "execute_result"
    }
   ],
   "source": [
    "train_df.describe(include='object')"
   ]
  },
  {
   "cell_type": "markdown",
   "id": "fc108c5f",
   "metadata": {},
   "source": [
    "# Data Cleaning"
   ]
  },
  {
   "cell_type": "code",
   "execution_count": 5,
   "id": "c8c441f1",
   "metadata": {},
   "outputs": [
    {
     "data": {
      "text/plain": [
       "array(['19-Dec', 'Ready To Move', '18-May', '18-Feb', '18-Nov', '20-Dec',\n",
       "       '17-Oct', '21-Dec', '19-Sep', '20-Sep', '18-Mar', '20-Feb',\n",
       "       '18-Apr', '20-Aug', '18-Oct', '19-Mar', '17-Sep', '18-Dec',\n",
       "       '17-Aug', '19-Apr', '18-Jun', '22-Dec', '22-Jan', '18-Aug',\n",
       "       '19-Jan', '17-Jul', '18-Jul', '21-Jun', '20-May', '19-Aug',\n",
       "       '18-Sep', '17-May', '17-Jun', '21-May', '18-Jan', '20-Mar',\n",
       "       '17-Dec', '16-Mar', '19-Jun', '22-Jun', '19-Jul', '21-Feb',\n",
       "       'Immediate Possession', '19-May', '17-Nov', '20-Oct', '20-Jun',\n",
       "       '19-Feb', '21-Oct', '21-Jan', '17-Mar', '17-Apr', '22-May',\n",
       "       '19-Oct', '21-Jul', '21-Nov', '21-Mar', '16-Dec', '22-Mar',\n",
       "       '20-Jan', '21-Sep', '21-Aug', '14-Nov', '19-Nov', '15-Nov',\n",
       "       '16-Jul', '15-Jun', '17-Feb', '20-Nov', '20-Jul', '16-Sep',\n",
       "       '15-Oct', '15-Dec', '16-Oct', '22-Nov', '15-Aug', '17-Jan',\n",
       "       '16-Nov', '20-Apr'], dtype=object)"
      ]
     },
     "execution_count": 5,
     "metadata": {},
     "output_type": "execute_result"
    }
   ],
   "source": [
    "train_df['availability'].unique()"
   ]
  },
  {
   "cell_type": "code",
   "execution_count": 6,
   "id": "65b29209",
   "metadata": {},
   "outputs": [
    {
     "data": {
      "text/plain": [
       "array(['sqft', 'SqMeter', 'Perch', 'SqYards', 'Acres', 'Cents', 'Guntha',\n",
       "       'Grounds'], dtype=object)"
      ]
     },
     "execution_count": 6,
     "metadata": {},
     "output_type": "execute_result"
    }
   ],
   "source": [
    "def find_alpha(text):\n",
    "    result = re.findall(\"[A-Za-z]\",text)\n",
    "    return ''.join(result)\n",
    "\n",
    "train_df['availability'] = train_df['availability'].apply(lambda x: find_alpha(x))\n",
    "train_df['size'] = train_df['size'].str.replace('Bedroom','BHK')\n",
    "train_df['size'] = train_df['size'].str.replace('1 RK','0')\n",
    "\n",
    "train_df['units'] = train_df['total_sqft'].apply(lambda x: find_alpha(x))\n",
    "train_df.loc[train_df['units']=='','units']='sqft'\n",
    "train_df['units'].unique()"
   ]
  },
  {
   "cell_type": "code",
   "execution_count": 7,
   "id": "ccf67b10",
   "metadata": {
    "scrolled": true
   },
   "outputs": [
    {
     "data": {
      "text/plain": [
       "array(['Dec', 'ReadyToMove', 'May', 'Feb', 'Nov', 'Oct', 'Sep', 'Mar',\n",
       "       'Apr', 'Aug', 'Jun', 'Jan', 'Jul', 'ImmediatePossession'],\n",
       "      dtype=object)"
      ]
     },
     "execution_count": 7,
     "metadata": {},
     "output_type": "execute_result"
    }
   ],
   "source": [
    "train_df['availability'].unique()"
   ]
  },
  {
   "cell_type": "code",
   "execution_count": 8,
   "id": "54e0cade",
   "metadata": {},
   "outputs": [
    {
     "data": {
      "text/plain": [
       "array(['UnderConstruction', 'ReadyToMove', 'ImmediatePossession'],\n",
       "      dtype=object)"
      ]
     },
     "execution_count": 8,
     "metadata": {},
     "output_type": "execute_result"
    }
   ],
   "source": [
    "train_df['availability'].replace(['Dec', 'May', 'Feb', 'Nov', 'Oct', 'Sep', 'Mar', 'Apr', 'Aug', 'Jun', 'Jan', 'Jul'], \n",
    "                                 'UnderConstruction', inplace=True)\n",
    "train_df['availability'].unique()"
   ]
  },
  {
   "cell_type": "code",
   "execution_count": 9,
   "id": "6bc55bae",
   "metadata": {
    "scrolled": true
   },
   "outputs": [
    {
     "data": {
      "text/plain": [
       "<AxesSubplot:>"
      ]
     },
     "execution_count": 9,
     "metadata": {},
     "output_type": "execute_result"
    },
    {
     "data": {
      "image/png": "[encoded data removed]",
      "text/plain": [
       "<Figure size 432x288 with 1 Axes>"
      ]
     },
     "metadata": {
      "needs_background": "light"
     },
     "output_type": "display_data"
    }
   ],
   "source": [
    "train_df['availability'].value_counts().plot(kind='bar')"
   ]
  },
  {
   "cell_type": "code",
   "execution_count": 10,
   "id": "09ab6105",
   "metadata": {},
   "outputs": [
    {
     "data": {
      "text/plain": [
       "array([''], dtype=object)"
      ]
     },
     "execution_count": 10,
     "metadata": {},
     "output_type": "execute_result"
    }
   ],
   "source": [
    "\n",
    "unit_lst = ['Sq. Meter', 'Perch', 'Sq. Yards', 'Acres', 'Cents', 'Guntha','Grounds']\n",
    "# remove the unit from the sq ft column\n",
    "for unit in unit_lst:\n",
    "    train_df['total_sqft'] = train_df['total_sqft'].str.replace(unit,'')\n",
    "\n",
    "# verify there is no unit in sq ft column after removing it\n",
    "sr = train_df['total_sqft'].apply(lambda x: find_alpha(x))\n",
    "# if there are 2 sqft values seperated by '-', take the average of them\n",
    "train_df['total_sqft'] = train_df['total_sqft'].str.split('-').apply(lambda x: (float(x[0])+float(x[-1]))/2)\n",
    "sr.unique()"
   ]
  },
  {
   "cell_type": "code",
   "execution_count": 11,
   "id": "68a2afb7",
   "metadata": {},
   "outputs": [
    {
     "data": {
      "text/plain": [
       "['sqft', 'SqMeter', 'Perch', 'SqYards', 'Acres', 'Cents', 'Guntha', 'Grounds']"
      ]
     },
     "execution_count": 11,
     "metadata": {},
     "output_type": "execute_result"
    }
   ],
   "source": [
    "unit_lst = train_df['units'].unique().tolist()\n",
    "unit_lst"
   ]
  },
  {
   "cell_type": "code",
   "execution_count": 12,
   "id": "83de2bd9",
   "metadata": {
    "scrolled": true
   },
   "outputs": [
    {
     "data": {
      "text/html": [
       "<div>\n",
       "<style scoped>\n",
       "    .dataframe tbody tr th:only-of-type {\n",
       "        vertical-align: middle;\n",
       "    }\n",
       "\n",
       "    .dataframe tbody tr th {\n",
       "        vertical-align: top;\n",
       "    }\n",
       "\n",
       "    .dataframe thead th {\n",
       "        text-align: right;\n",
       "    }\n",
       "</style>\n",
       "<table border=\"1\" class=\"dataframe\">\n",
       "  <thead>\n",
       "    <tr style=\"text-align: right;\">\n",
       "      <th></th>\n",
       "      <th>ID</th>\n",
       "      <th>area_type</th>\n",
       "      <th>availability</th>\n",
       "      <th>location</th>\n",
       "      <th>size</th>\n",
       "      <th>society</th>\n",
       "      <th>total_sqft</th>\n",
       "      <th>bath</th>\n",
       "      <th>balcony</th>\n",
       "      <th>price</th>\n",
       "      <th>units</th>\n",
       "    </tr>\n",
       "  </thead>\n",
       "  <tbody>\n",
       "    <tr>\n",
       "      <th>410</th>\n",
       "      <td>410</td>\n",
       "      <td>Super built-up  Area</td>\n",
       "      <td>ReadyToMove</td>\n",
       "      <td>Kengeri</td>\n",
       "      <td>1 BHK</td>\n",
       "      <td>NaN</td>\n",
       "      <td>34.46</td>\n",
       "      <td>1.0</td>\n",
       "      <td>0.0</td>\n",
       "      <td>18.5</td>\n",
       "      <td>SqMeter</td>\n",
       "    </tr>\n",
       "    <tr>\n",
       "      <th>775</th>\n",
       "      <td>775</td>\n",
       "      <td>Built-up  Area</td>\n",
       "      <td>ReadyToMove</td>\n",
       "      <td>Basavanagara</td>\n",
       "      <td>1 BHK</td>\n",
       "      <td>NaN</td>\n",
       "      <td>1000.00</td>\n",
       "      <td>2.0</td>\n",
       "      <td>1.0</td>\n",
       "      <td>93.0</td>\n",
       "      <td>SqMeter</td>\n",
       "    </tr>\n",
       "    <tr>\n",
       "      <th>1400</th>\n",
       "      <td>1400</td>\n",
       "      <td>Super built-up  Area</td>\n",
       "      <td>ReadyToMove</td>\n",
       "      <td>Chamrajpet</td>\n",
       "      <td>9 BHK</td>\n",
       "      <td>NaN</td>\n",
       "      <td>716.00</td>\n",
       "      <td>9.0</td>\n",
       "      <td>1.0</td>\n",
       "      <td>296.0</td>\n",
       "      <td>SqMeter</td>\n",
       "    </tr>\n",
       "    <tr>\n",
       "      <th>1712</th>\n",
       "      <td>1712</td>\n",
       "      <td>Plot  Area</td>\n",
       "      <td>ReadyToMove</td>\n",
       "      <td>Singena Agrahara</td>\n",
       "      <td>3 BHK</td>\n",
       "      <td>CoiewSy</td>\n",
       "      <td>1500.00</td>\n",
       "      <td>3.0</td>\n",
       "      <td>1.0</td>\n",
       "      <td>95.0</td>\n",
       "      <td>SqMeter</td>\n",
       "    </tr>\n",
       "    <tr>\n",
       "      <th>1743</th>\n",
       "      <td>1743</td>\n",
       "      <td>Super built-up  Area</td>\n",
       "      <td>UnderConstruction</td>\n",
       "      <td>Hosa Road</td>\n",
       "      <td>3 BHK</td>\n",
       "      <td>Sosisic</td>\n",
       "      <td>142.61</td>\n",
       "      <td>3.0</td>\n",
       "      <td>1.0</td>\n",
       "      <td>115.0</td>\n",
       "      <td>SqMeter</td>\n",
       "    </tr>\n",
       "  </tbody>\n",
       "</table>\n",
       "</div>"
      ],
      "text/plain": [
       "        ID             area_type       availability          location   size  \\\n",
       "410    410  Super built-up  Area        ReadyToMove           Kengeri  1 BHK   \n",
       "775    775        Built-up  Area        ReadyToMove      Basavanagara  1 BHK   \n",
       "1400  1400  Super built-up  Area        ReadyToMove        Chamrajpet  9 BHK   \n",
       "1712  1712            Plot  Area        ReadyToMove  Singena Agrahara  3 BHK   \n",
       "1743  1743  Super built-up  Area  UnderConstruction         Hosa Road  3 BHK   \n",
       "\n",
       "      society  total_sqft  bath  balcony  price    units  \n",
       "410       NaN       34.46   1.0      0.0   18.5  SqMeter  \n",
       "775       NaN     1000.00   2.0      1.0   93.0  SqMeter  \n",
       "1400      NaN      716.00   9.0      1.0  296.0  SqMeter  \n",
       "1712  CoiewSy     1500.00   3.0      1.0   95.0  SqMeter  \n",
       "1743  Sosisic      142.61   3.0      1.0  115.0  SqMeter  "
      ]
     },
     "execution_count": 12,
     "metadata": {},
     "output_type": "execute_result"
    }
   ],
   "source": [
    "train_df[train_df['units']=='SqMeter'].head()"
   ]
  },
  {
   "cell_type": "code",
   "execution_count": 13,
   "id": "26dac20c",
   "metadata": {},
   "outputs": [
    {
     "data": {
      "text/html": [
       "<div>\n",
       "<style scoped>\n",
       "    .dataframe tbody tr th:only-of-type {\n",
       "        vertical-align: middle;\n",
       "    }\n",
       "\n",
       "    .dataframe tbody tr th {\n",
       "        vertical-align: top;\n",
       "    }\n",
       "\n",
       "    .dataframe thead th {\n",
       "        text-align: right;\n",
       "    }\n",
       "</style>\n",
       "<table border=\"1\" class=\"dataframe\">\n",
       "  <thead>\n",
       "    <tr style=\"text-align: right;\">\n",
       "      <th></th>\n",
       "      <th>ID</th>\n",
       "      <th>area_type</th>\n",
       "      <th>availability</th>\n",
       "      <th>location</th>\n",
       "      <th>size</th>\n",
       "      <th>society</th>\n",
       "      <th>total_sqft</th>\n",
       "      <th>bath</th>\n",
       "      <th>balcony</th>\n",
       "      <th>price</th>\n",
       "      <th>units</th>\n",
       "    </tr>\n",
       "  </thead>\n",
       "  <tbody>\n",
       "    <tr>\n",
       "      <th>410</th>\n",
       "      <td>410</td>\n",
       "      <td>Super built-up  Area</td>\n",
       "      <td>ReadyToMove</td>\n",
       "      <td>Kengeri</td>\n",
       "      <td>1 BHK</td>\n",
       "      <td>NaN</td>\n",
       "      <td>370.92</td>\n",
       "      <td>1.0</td>\n",
       "      <td>0.0</td>\n",
       "      <td>18.5</td>\n",
       "      <td>SqMeter</td>\n",
       "    </tr>\n",
       "    <tr>\n",
       "      <th>775</th>\n",
       "      <td>775</td>\n",
       "      <td>Built-up  Area</td>\n",
       "      <td>ReadyToMove</td>\n",
       "      <td>Basavanagara</td>\n",
       "      <td>1 BHK</td>\n",
       "      <td>NaN</td>\n",
       "      <td>10763.91</td>\n",
       "      <td>2.0</td>\n",
       "      <td>1.0</td>\n",
       "      <td>93.0</td>\n",
       "      <td>SqMeter</td>\n",
       "    </tr>\n",
       "    <tr>\n",
       "      <th>1400</th>\n",
       "      <td>1400</td>\n",
       "      <td>Super built-up  Area</td>\n",
       "      <td>ReadyToMove</td>\n",
       "      <td>Chamrajpet</td>\n",
       "      <td>9 BHK</td>\n",
       "      <td>NaN</td>\n",
       "      <td>7706.96</td>\n",
       "      <td>9.0</td>\n",
       "      <td>1.0</td>\n",
       "      <td>296.0</td>\n",
       "      <td>SqMeter</td>\n",
       "    </tr>\n",
       "    <tr>\n",
       "      <th>1712</th>\n",
       "      <td>1712</td>\n",
       "      <td>Plot  Area</td>\n",
       "      <td>ReadyToMove</td>\n",
       "      <td>Singena Agrahara</td>\n",
       "      <td>3 BHK</td>\n",
       "      <td>CoiewSy</td>\n",
       "      <td>16145.87</td>\n",
       "      <td>3.0</td>\n",
       "      <td>1.0</td>\n",
       "      <td>95.0</td>\n",
       "      <td>SqMeter</td>\n",
       "    </tr>\n",
       "    <tr>\n",
       "      <th>1743</th>\n",
       "      <td>1743</td>\n",
       "      <td>Super built-up  Area</td>\n",
       "      <td>UnderConstruction</td>\n",
       "      <td>Hosa Road</td>\n",
       "      <td>3 BHK</td>\n",
       "      <td>Sosisic</td>\n",
       "      <td>1535.04</td>\n",
       "      <td>3.0</td>\n",
       "      <td>1.0</td>\n",
       "      <td>115.0</td>\n",
       "      <td>SqMeter</td>\n",
       "    </tr>\n",
       "  </tbody>\n",
       "</table>\n",
       "</div>"
      ],
      "text/plain": [
       "        ID             area_type       availability          location   size  \\\n",
       "410    410  Super built-up  Area        ReadyToMove           Kengeri  1 BHK   \n",
       "775    775        Built-up  Area        ReadyToMove      Basavanagara  1 BHK   \n",
       "1400  1400  Super built-up  Area        ReadyToMove        Chamrajpet  9 BHK   \n",
       "1712  1712            Plot  Area        ReadyToMove  Singena Agrahara  3 BHK   \n",
       "1743  1743  Super built-up  Area  UnderConstruction         Hosa Road  3 BHK   \n",
       "\n",
       "      society  total_sqft  bath  balcony  price    units  \n",
       "410       NaN      370.92   1.0      0.0   18.5  SqMeter  \n",
       "775       NaN    10763.91   2.0      1.0   93.0  SqMeter  \n",
       "1400      NaN     7706.96   9.0      1.0  296.0  SqMeter  \n",
       "1712  CoiewSy    16145.87   3.0      1.0   95.0  SqMeter  \n",
       "1743  Sosisic     1535.04   3.0      1.0  115.0  SqMeter  "
      ]
     },
     "execution_count": 13,
     "metadata": {},
     "output_type": "execute_result"
    }
   ],
   "source": [
    "# convert all into sq m\n",
    "def cal_sqft(x,unit_lst):\n",
    "    \n",
    "    mul_dt = dict(zip(unit_lst, [1, 10.76391042, 272.25, 9, 43560, 435.56, 1089, 2400]))\n",
    "    return round(x['total_sqft'] * mul_dt[x['units']], 2)\n",
    "unit_lst = train_df['units'].unique().tolist()\n",
    "train_df['total_sqft'] = train_df[['total_sqft','units']].apply(lambda x: cal_sqft(x,unit_lst), axis=1)\n",
    "train_df[train_df['units'] == 'SqMeter'].head()"
   ]
  },
  {
   "cell_type": "code",
   "execution_count": 14,
   "id": "1ab10507",
   "metadata": {
    "scrolled": true
   },
   "outputs": [
    {
     "data": {
      "text/html": [
       "<div>\n",
       "<style scoped>\n",
       "    .dataframe tbody tr th:only-of-type {\n",
       "        vertical-align: middle;\n",
       "    }\n",
       "\n",
       "    .dataframe tbody tr th {\n",
       "        vertical-align: top;\n",
       "    }\n",
       "\n",
       "    .dataframe thead th {\n",
       "        text-align: right;\n",
       "    }\n",
       "</style>\n",
       "<table border=\"1\" class=\"dataframe\">\n",
       "  <thead>\n",
       "    <tr style=\"text-align: right;\">\n",
       "      <th></th>\n",
       "      <th>ID</th>\n",
       "      <th>area_type</th>\n",
       "      <th>availability</th>\n",
       "      <th>location</th>\n",
       "      <th>size</th>\n",
       "      <th>society</th>\n",
       "      <th>total_sqft</th>\n",
       "      <th>bath</th>\n",
       "      <th>balcony</th>\n",
       "      <th>price</th>\n",
       "    </tr>\n",
       "  </thead>\n",
       "  <tbody>\n",
       "    <tr>\n",
       "      <th>0</th>\n",
       "      <td>0</td>\n",
       "      <td>Super built-up  Area</td>\n",
       "      <td>UnderConstruction</td>\n",
       "      <td>Electronic City Phase II</td>\n",
       "      <td>2 BHK</td>\n",
       "      <td>Coomee</td>\n",
       "      <td>1056.0</td>\n",
       "      <td>2.0</td>\n",
       "      <td>1.0</td>\n",
       "      <td>39.07</td>\n",
       "    </tr>\n",
       "  </tbody>\n",
       "</table>\n",
       "</div>"
      ],
      "text/plain": [
       "   ID             area_type       availability                  location  \\\n",
       "0   0  Super built-up  Area  UnderConstruction  Electronic City Phase II   \n",
       "\n",
       "    size  society  total_sqft  bath  balcony  price  \n",
       "0  2 BHK  Coomee       1056.0   2.0      1.0  39.07  "
      ]
     },
     "execution_count": 14,
     "metadata": {},
     "output_type": "execute_result"
    }
   ],
   "source": [
    "train_df = train_df.drop(columns=['units'])\n",
    "train_df.head(1)"
   ]
  },
  {
   "cell_type": "code",
   "execution_count": 15,
   "id": "a7c08b70",
   "metadata": {},
   "outputs": [
    {
     "data": {
      "image/png": "[encoded data removed]",
      "text/plain": [
       "<Figure size 1080x360 with 1 Axes>"
      ]
     },
     "metadata": {
      "needs_background": "light"
     },
     "output_type": "display_data"
    }
   ],
   "source": [
    "plt.figure(figsize=(15,5))\n",
    "sns.boxplot(train_df['total_sqft'])\n",
    "plt.show()"
   ]
  },
  {
   "cell_type": "code",
   "execution_count": 16,
   "id": "6d75aa4f",
   "metadata": {},
   "outputs": [
    {
     "data": {
      "text/html": [
       "<div>\n",
       "<style scoped>\n",
       "    .dataframe tbody tr th:only-of-type {\n",
       "        vertical-align: middle;\n",
       "    }\n",
       "\n",
       "    .dataframe tbody tr th {\n",
       "        vertical-align: top;\n",
       "    }\n",
       "\n",
       "    .dataframe thead th {\n",
       "        text-align: right;\n",
       "    }\n",
       "</style>\n",
       "<table border=\"1\" class=\"dataframe\">\n",
       "  <thead>\n",
       "    <tr style=\"text-align: right;\">\n",
       "      <th></th>\n",
       "      <th>mean</th>\n",
       "      <th>median</th>\n",
       "    </tr>\n",
       "    <tr>\n",
       "      <th>area_type</th>\n",
       "      <th></th>\n",
       "      <th></th>\n",
       "    </tr>\n",
       "  </thead>\n",
       "  <tbody>\n",
       "    <tr>\n",
       "      <th>Built-up  Area</th>\n",
       "      <td>2225.208282</td>\n",
       "      <td>1300.0</td>\n",
       "    </tr>\n",
       "    <tr>\n",
       "      <th>Carpet  Area</th>\n",
       "      <td>1228.640725</td>\n",
       "      <td>1103.0</td>\n",
       "    </tr>\n",
       "    <tr>\n",
       "      <th>Plot  Area</th>\n",
       "      <td>3768.283731</td>\n",
       "      <td>1200.0</td>\n",
       "    </tr>\n",
       "    <tr>\n",
       "      <th>Super built-up  Area</th>\n",
       "      <td>1486.113523</td>\n",
       "      <td>1280.0</td>\n",
       "    </tr>\n",
       "  </tbody>\n",
       "</table>\n",
       "</div>"
      ],
      "text/plain": [
       "                             mean  median\n",
       "area_type                                \n",
       "Built-up  Area        2225.208282  1300.0\n",
       "Carpet  Area          1228.640725  1103.0\n",
       "Plot  Area            3768.283731  1200.0\n",
       "Super built-up  Area  1486.113523  1280.0"
      ]
     },
     "execution_count": 16,
     "metadata": {},
     "output_type": "execute_result"
    }
   ],
   "source": [
    "train_df.groupby('area_type')['total_sqft'].agg(['mean','median'])"
   ]
  },
  {
   "cell_type": "markdown",
   "id": "0ac8266c",
   "metadata": {},
   "source": [
    "# Read Avg Rent data"
   ]
  },
  {
   "cell_type": "code",
   "execution_count": 17,
   "id": "9cabd627",
   "metadata": {
    "scrolled": false
   },
   "outputs": [
    {
     "data": {
      "text/html": [
       "<div>\n",
       "<style scoped>\n",
       "    .dataframe tbody tr th:only-of-type {\n",
       "        vertical-align: middle;\n",
       "    }\n",
       "\n",
       "    .dataframe tbody tr th {\n",
       "        vertical-align: top;\n",
       "    }\n",
       "\n",
       "    .dataframe thead th {\n",
       "        text-align: right;\n",
       "    }\n",
       "</style>\n",
       "<table border=\"1\" class=\"dataframe\">\n",
       "  <thead>\n",
       "    <tr style=\"text-align: right;\">\n",
       "      <th></th>\n",
       "      <th>location</th>\n",
       "      <th>avg_2bhk_rent</th>\n",
       "    </tr>\n",
       "  </thead>\n",
       "  <tbody>\n",
       "    <tr>\n",
       "      <th>0</th>\n",
       "      <td>Krishnarajapura</td>\n",
       "      <td>11954</td>\n",
       "    </tr>\n",
       "    <tr>\n",
       "      <th>1</th>\n",
       "      <td>Sarjapur</td>\n",
       "      <td>45000</td>\n",
       "    </tr>\n",
       "    <tr>\n",
       "      <th>2</th>\n",
       "      <td>Whitefield Hope Farm Junction</td>\n",
       "      <td>26370</td>\n",
       "    </tr>\n",
       "    <tr>\n",
       "      <th>3</th>\n",
       "      <td>Devanahalli</td>\n",
       "      <td>17302</td>\n",
       "    </tr>\n",
       "    <tr>\n",
       "      <th>4</th>\n",
       "      <td>Whitefield</td>\n",
       "      <td>14981</td>\n",
       "    </tr>\n",
       "  </tbody>\n",
       "</table>\n",
       "</div>"
      ],
      "text/plain": [
       "                        location  avg_2bhk_rent\n",
       "0                Krishnarajapura          11954\n",
       "1                       Sarjapur          45000\n",
       "2  Whitefield Hope Farm Junction          26370\n",
       "3                    Devanahalli          17302\n",
       "4                     Whitefield          14981"
      ]
     },
     "execution_count": 17,
     "metadata": {},
     "output_type": "execute_result"
    }
   ],
   "source": [
    "rent_df = pd.read_csv('avg_rent.csv')\n",
    "rent_df.head()"
   ]
  },
  {
   "cell_type": "code",
   "execution_count": 18,
   "id": "6a465830",
   "metadata": {
    "scrolled": true
   },
   "outputs": [
    {
     "data": {
      "text/html": [
       "<div>\n",
       "<style scoped>\n",
       "    .dataframe tbody tr th:only-of-type {\n",
       "        vertical-align: middle;\n",
       "    }\n",
       "\n",
       "    .dataframe tbody tr th {\n",
       "        vertical-align: top;\n",
       "    }\n",
       "\n",
       "    .dataframe thead th {\n",
       "        text-align: right;\n",
       "    }\n",
       "</style>\n",
       "<table border=\"1\" class=\"dataframe\">\n",
       "  <thead>\n",
       "    <tr style=\"text-align: right;\">\n",
       "      <th></th>\n",
       "      <th>ID</th>\n",
       "      <th>area_type</th>\n",
       "      <th>availability</th>\n",
       "      <th>location</th>\n",
       "      <th>size</th>\n",
       "      <th>society</th>\n",
       "      <th>total_sqft</th>\n",
       "      <th>bath</th>\n",
       "      <th>balcony</th>\n",
       "      <th>price</th>\n",
       "      <th>avg_2bhk_rent</th>\n",
       "    </tr>\n",
       "  </thead>\n",
       "  <tbody>\n",
       "    <tr>\n",
       "      <th>0</th>\n",
       "      <td>0</td>\n",
       "      <td>Super built-up  Area</td>\n",
       "      <td>UnderConstruction</td>\n",
       "      <td>Electronic City Phase II</td>\n",
       "      <td>2 BHK</td>\n",
       "      <td>Coomee</td>\n",
       "      <td>1056.0</td>\n",
       "      <td>2.0</td>\n",
       "      <td>1.0</td>\n",
       "      <td>39.07</td>\n",
       "      <td>11500.0</td>\n",
       "    </tr>\n",
       "    <tr>\n",
       "      <th>1</th>\n",
       "      <td>1</td>\n",
       "      <td>Plot  Area</td>\n",
       "      <td>ReadyToMove</td>\n",
       "      <td>Chikka Tirupathi</td>\n",
       "      <td>4 BHK</td>\n",
       "      <td>Theanmp</td>\n",
       "      <td>2600.0</td>\n",
       "      <td>5.0</td>\n",
       "      <td>3.0</td>\n",
       "      <td>120.00</td>\n",
       "      <td>NaN</td>\n",
       "    </tr>\n",
       "    <tr>\n",
       "      <th>2</th>\n",
       "      <td>2</td>\n",
       "      <td>Built-up  Area</td>\n",
       "      <td>ReadyToMove</td>\n",
       "      <td>Uttarahalli</td>\n",
       "      <td>3 BHK</td>\n",
       "      <td>NaN</td>\n",
       "      <td>1440.0</td>\n",
       "      <td>2.0</td>\n",
       "      <td>3.0</td>\n",
       "      <td>62.00</td>\n",
       "      <td>19750.0</td>\n",
       "    </tr>\n",
       "    <tr>\n",
       "      <th>3</th>\n",
       "      <td>3</td>\n",
       "      <td>Super built-up  Area</td>\n",
       "      <td>ReadyToMove</td>\n",
       "      <td>Lingadheeranahalli</td>\n",
       "      <td>3 BHK</td>\n",
       "      <td>Soiewre</td>\n",
       "      <td>1521.0</td>\n",
       "      <td>3.0</td>\n",
       "      <td>1.0</td>\n",
       "      <td>95.00</td>\n",
       "      <td>NaN</td>\n",
       "    </tr>\n",
       "    <tr>\n",
       "      <th>4</th>\n",
       "      <td>4</td>\n",
       "      <td>Super built-up  Area</td>\n",
       "      <td>ReadyToMove</td>\n",
       "      <td>Kothanur</td>\n",
       "      <td>2 BHK</td>\n",
       "      <td>NaN</td>\n",
       "      <td>1200.0</td>\n",
       "      <td>2.0</td>\n",
       "      <td>1.0</td>\n",
       "      <td>51.00</td>\n",
       "      <td>16375.0</td>\n",
       "    </tr>\n",
       "  </tbody>\n",
       "</table>\n",
       "</div>"
      ],
      "text/plain": [
       "   ID             area_type       availability                  location  \\\n",
       "0   0  Super built-up  Area  UnderConstruction  Electronic City Phase II   \n",
       "1   1            Plot  Area        ReadyToMove          Chikka Tirupathi   \n",
       "2   2        Built-up  Area        ReadyToMove               Uttarahalli   \n",
       "3   3  Super built-up  Area        ReadyToMove        Lingadheeranahalli   \n",
       "4   4  Super built-up  Area        ReadyToMove                  Kothanur   \n",
       "\n",
       "    size  society  total_sqft  bath  balcony   price  avg_2bhk_rent  \n",
       "0  2 BHK  Coomee       1056.0   2.0      1.0   39.07        11500.0  \n",
       "1  4 BHK  Theanmp      2600.0   5.0      3.0  120.00            NaN  \n",
       "2  3 BHK      NaN      1440.0   2.0      3.0   62.00        19750.0  \n",
       "3  3 BHK  Soiewre      1521.0   3.0      1.0   95.00            NaN  \n",
       "4  2 BHK      NaN      1200.0   2.0      1.0   51.00        16375.0  "
      ]
     },
     "execution_count": 18,
     "metadata": {},
     "output_type": "execute_result"
    }
   ],
   "source": [
    "train_df = train_df.merge(rent_df, on='location',how='left')\n",
    "train_df.head()"
   ]
  },
  {
   "cell_type": "markdown",
   "id": "44e698a4",
   "metadata": {},
   "source": [
    "# Read Distance from city centre data"
   ]
  },
  {
   "cell_type": "code",
   "execution_count": 19,
   "id": "933487e6",
   "metadata": {
    "scrolled": true
   },
   "outputs": [
    {
     "data": {
      "text/html": [
       "<div>\n",
       "<style scoped>\n",
       "    .dataframe tbody tr th:only-of-type {\n",
       "        vertical-align: middle;\n",
       "    }\n",
       "\n",
       "    .dataframe tbody tr th {\n",
       "        vertical-align: top;\n",
       "    }\n",
       "\n",
       "    .dataframe thead th {\n",
       "        text-align: right;\n",
       "    }\n",
       "</style>\n",
       "<table border=\"1\" class=\"dataframe\">\n",
       "  <thead>\n",
       "    <tr style=\"text-align: right;\">\n",
       "      <th></th>\n",
       "      <th>location</th>\n",
       "      <th>dist_from_city</th>\n",
       "    </tr>\n",
       "  </thead>\n",
       "  <tbody>\n",
       "    <tr>\n",
       "      <th>0</th>\n",
       "      <td>Whitefield</td>\n",
       "      <td>17.3</td>\n",
       "    </tr>\n",
       "    <tr>\n",
       "      <th>1</th>\n",
       "      <td>Sarjapur  Road</td>\n",
       "      <td>17.2</td>\n",
       "    </tr>\n",
       "    <tr>\n",
       "      <th>2</th>\n",
       "      <td>Electronic City</td>\n",
       "      <td>18.1</td>\n",
       "    </tr>\n",
       "    <tr>\n",
       "      <th>3</th>\n",
       "      <td>Kanakpura Road</td>\n",
       "      <td>26.5</td>\n",
       "    </tr>\n",
       "    <tr>\n",
       "      <th>4</th>\n",
       "      <td>Thanisandra</td>\n",
       "      <td>11.5</td>\n",
       "    </tr>\n",
       "  </tbody>\n",
       "</table>\n",
       "</div>"
      ],
      "text/plain": [
       "          location  dist_from_city\n",
       "0       Whitefield            17.3\n",
       "1   Sarjapur  Road            17.2\n",
       "2  Electronic City            18.1\n",
       "3   Kanakpura Road            26.5\n",
       "4      Thanisandra            11.5"
      ]
     },
     "execution_count": 19,
     "metadata": {},
     "output_type": "execute_result"
    }
   ],
   "source": [
    "dist_df = pd.read_csv('dist_from_city_centre.csv')\n",
    "dist_df.head()"
   ]
  },
  {
   "cell_type": "code",
   "execution_count": 20,
   "id": "ec077bad",
   "metadata": {},
   "outputs": [
    {
     "data": {
      "text/html": [
       "<div>\n",
       "<style scoped>\n",
       "    .dataframe tbody tr th:only-of-type {\n",
       "        vertical-align: middle;\n",
       "    }\n",
       "\n",
       "    .dataframe tbody tr th {\n",
       "        vertical-align: top;\n",
       "    }\n",
       "\n",
       "    .dataframe thead th {\n",
       "        text-align: right;\n",
       "    }\n",
       "</style>\n",
       "<table border=\"1\" class=\"dataframe\">\n",
       "  <thead>\n",
       "    <tr style=\"text-align: right;\">\n",
       "      <th></th>\n",
       "      <th>ID</th>\n",
       "      <th>area_type</th>\n",
       "      <th>availability</th>\n",
       "      <th>location</th>\n",
       "      <th>size</th>\n",
       "      <th>society</th>\n",
       "      <th>total_sqft</th>\n",
       "      <th>bath</th>\n",
       "      <th>balcony</th>\n",
       "      <th>price</th>\n",
       "      <th>avg_2bhk_rent</th>\n",
       "      <th>dist_from_city</th>\n",
       "    </tr>\n",
       "  </thead>\n",
       "  <tbody>\n",
       "    <tr>\n",
       "      <th>0</th>\n",
       "      <td>0</td>\n",
       "      <td>Super built-up  Area</td>\n",
       "      <td>UnderConstruction</td>\n",
       "      <td>Electronic City Phase II</td>\n",
       "      <td>2 BHK</td>\n",
       "      <td>Coomee</td>\n",
       "      <td>1056.0</td>\n",
       "      <td>2.0</td>\n",
       "      <td>1.0</td>\n",
       "      <td>39.07</td>\n",
       "      <td>11500.0</td>\n",
       "      <td>19.3</td>\n",
       "    </tr>\n",
       "    <tr>\n",
       "      <th>1</th>\n",
       "      <td>1</td>\n",
       "      <td>Plot  Area</td>\n",
       "      <td>ReadyToMove</td>\n",
       "      <td>Chikka Tirupathi</td>\n",
       "      <td>4 BHK</td>\n",
       "      <td>Theanmp</td>\n",
       "      <td>2600.0</td>\n",
       "      <td>5.0</td>\n",
       "      <td>3.0</td>\n",
       "      <td>120.00</td>\n",
       "      <td>NaN</td>\n",
       "      <td>34.6</td>\n",
       "    </tr>\n",
       "    <tr>\n",
       "      <th>2</th>\n",
       "      <td>2</td>\n",
       "      <td>Built-up  Area</td>\n",
       "      <td>ReadyToMove</td>\n",
       "      <td>Uttarahalli</td>\n",
       "      <td>3 BHK</td>\n",
       "      <td>NaN</td>\n",
       "      <td>1440.0</td>\n",
       "      <td>2.0</td>\n",
       "      <td>3.0</td>\n",
       "      <td>62.00</td>\n",
       "      <td>19750.0</td>\n",
       "      <td>12.9</td>\n",
       "    </tr>\n",
       "    <tr>\n",
       "      <th>3</th>\n",
       "      <td>3</td>\n",
       "      <td>Super built-up  Area</td>\n",
       "      <td>ReadyToMove</td>\n",
       "      <td>Lingadheeranahalli</td>\n",
       "      <td>3 BHK</td>\n",
       "      <td>Soiewre</td>\n",
       "      <td>1521.0</td>\n",
       "      <td>3.0</td>\n",
       "      <td>1.0</td>\n",
       "      <td>95.00</td>\n",
       "      <td>NaN</td>\n",
       "      <td>21.4</td>\n",
       "    </tr>\n",
       "    <tr>\n",
       "      <th>4</th>\n",
       "      <td>4</td>\n",
       "      <td>Super built-up  Area</td>\n",
       "      <td>ReadyToMove</td>\n",
       "      <td>Kothanur</td>\n",
       "      <td>2 BHK</td>\n",
       "      <td>NaN</td>\n",
       "      <td>1200.0</td>\n",
       "      <td>2.0</td>\n",
       "      <td>1.0</td>\n",
       "      <td>51.00</td>\n",
       "      <td>16375.0</td>\n",
       "      <td>11.8</td>\n",
       "    </tr>\n",
       "  </tbody>\n",
       "</table>\n",
       "</div>"
      ],
      "text/plain": [
       "   ID             area_type       availability                  location  \\\n",
       "0   0  Super built-up  Area  UnderConstruction  Electronic City Phase II   \n",
       "1   1            Plot  Area        ReadyToMove          Chikka Tirupathi   \n",
       "2   2        Built-up  Area        ReadyToMove               Uttarahalli   \n",
       "3   3  Super built-up  Area        ReadyToMove        Lingadheeranahalli   \n",
       "4   4  Super built-up  Area        ReadyToMove                  Kothanur   \n",
       "\n",
       "    size  society  total_sqft  bath  balcony   price  avg_2bhk_rent  \\\n",
       "0  2 BHK  Coomee       1056.0   2.0      1.0   39.07        11500.0   \n",
       "1  4 BHK  Theanmp      2600.0   5.0      3.0  120.00            NaN   \n",
       "2  3 BHK      NaN      1440.0   2.0      3.0   62.00        19750.0   \n",
       "3  3 BHK  Soiewre      1521.0   3.0      1.0   95.00            NaN   \n",
       "4  2 BHK      NaN      1200.0   2.0      1.0   51.00        16375.0   \n",
       "\n",
       "   dist_from_city  \n",
       "0            19.3  \n",
       "1            34.6  \n",
       "2            12.9  \n",
       "3            21.4  \n",
       "4            11.8  "
      ]
     },
     "execution_count": 20,
     "metadata": {},
     "output_type": "execute_result"
    }
   ],
   "source": [
    "train_df = train_df.merge(dist_df, on='location', how='left')\n",
    "train_df.head()"
   ]
  },
  {
   "cell_type": "markdown",
   "id": "a546e954",
   "metadata": {},
   "source": [
    "# Handling Missing Values"
   ]
  },
  {
   "cell_type": "code",
   "execution_count": 21,
   "id": "fe2ef5e9",
   "metadata": {
    "scrolled": false
   },
   "outputs": [
    {
     "data": {
      "text/plain": [
       "location          0.000094\n",
       "size              0.001314\n",
       "society           0.415541\n",
       "bath              0.006100\n",
       "balcony           0.047297\n",
       "avg_2bhk_rent     0.656062\n",
       "dist_from_city    0.096284\n",
       "dtype: float64"
      ]
     },
     "execution_count": 21,
     "metadata": {},
     "output_type": "execute_result"
    }
   ],
   "source": [
    "sr = train_df.isna().sum()/len(train_df)\n",
    "sr[sr>0]"
   ]
  },
  {
   "cell_type": "code",
   "execution_count": 22,
   "id": "3033a2f7",
   "metadata": {},
   "outputs": [
    {
     "data": {
      "text/html": [
       "<div>\n",
       "<style scoped>\n",
       "    .dataframe tbody tr th:only-of-type {\n",
       "        vertical-align: middle;\n",
       "    }\n",
       "\n",
       "    .dataframe tbody tr th {\n",
       "        vertical-align: top;\n",
       "    }\n",
       "\n",
       "    .dataframe thead th {\n",
       "        text-align: right;\n",
       "    }\n",
       "</style>\n",
       "<table border=\"1\" class=\"dataframe\">\n",
       "  <thead>\n",
       "    <tr style=\"text-align: right;\">\n",
       "      <th></th>\n",
       "      <th>area_type</th>\n",
       "      <th>availability</th>\n",
       "      <th>location</th>\n",
       "      <th>size</th>\n",
       "      <th>total_sqft</th>\n",
       "      <th>bath</th>\n",
       "      <th>balcony</th>\n",
       "      <th>price</th>\n",
       "      <th>avg_2bhk_rent</th>\n",
       "      <th>dist_from_city</th>\n",
       "    </tr>\n",
       "  </thead>\n",
       "  <tbody>\n",
       "    <tr>\n",
       "      <th>0</th>\n",
       "      <td>Super built-up  Area</td>\n",
       "      <td>UnderConstruction</td>\n",
       "      <td>Electronic City Phase II</td>\n",
       "      <td>2 BHK</td>\n",
       "      <td>1056.0</td>\n",
       "      <td>2.0</td>\n",
       "      <td>1.0</td>\n",
       "      <td>39.07</td>\n",
       "      <td>11500.0</td>\n",
       "      <td>19.3</td>\n",
       "    </tr>\n",
       "  </tbody>\n",
       "</table>\n",
       "</div>"
      ],
      "text/plain": [
       "              area_type       availability                  location   size  \\\n",
       "0  Super built-up  Area  UnderConstruction  Electronic City Phase II  2 BHK   \n",
       "\n",
       "   total_sqft  bath  balcony  price  avg_2bhk_rent  dist_from_city  \n",
       "0      1056.0   2.0      1.0  39.07        11500.0            19.3  "
      ]
     },
     "execution_count": 22,
     "metadata": {},
     "output_type": "execute_result"
    }
   ],
   "source": [
    "# we are dropping society as it has more number of missing values\n",
    "# we are dropping ID as it is not useful for model building\n",
    "train_df = train_df.drop(columns=['society','ID'])\n",
    "train_df.head(1)"
   ]
  },
  {
   "cell_type": "code",
   "execution_count": 23,
   "id": "05ebec33",
   "metadata": {
    "scrolled": false
   },
   "outputs": [
    {
     "data": {
      "image/png": "[encoded data removed]",
      "text/plain": [
       "<Figure size 432x288 with 1 Axes>"
      ]
     },
     "metadata": {
      "needs_background": "light"
     },
     "output_type": "display_data"
    }
   ],
   "source": [
    "train_df['size'].value_counts().plot(kind='bar')\n",
    "plt.show()"
   ]
  },
  {
   "cell_type": "code",
   "execution_count": 24,
   "id": "f6fedff7",
   "metadata": {
    "scrolled": false
   },
   "outputs": [
    {
     "data": {
      "image/png": "[encoded data removed]",
      "text/plain": [
       "<Figure size 432x288 with 1 Axes>"
      ]
     },
     "metadata": {
      "needs_background": "light"
     },
     "output_type": "display_data"
    }
   ],
   "source": [
    "train_df['balcony'].value_counts().plot(kind='bar')\n",
    "plt.show()"
   ]
  },
  {
   "cell_type": "code",
   "execution_count": 25,
   "id": "67796f3e",
   "metadata": {
    "scrolled": true
   },
   "outputs": [
    {
     "data": {
      "text/plain": [
       "Whitefield                0.040638\n",
       "Sarjapur  Road            0.028437\n",
       "Electronic City           0.021962\n",
       "Kanakpura Road            0.020366\n",
       "Thanisandra               0.016706\n",
       "                            ...   \n",
       "Sahyadri Layout           0.000094\n",
       "Laxminarayana Layout      0.000094\n",
       "Kanakadasa Layout         0.000094\n",
       "Indira Nagar 3rd Stage    0.000094\n",
       "Panathur Road,            0.000094\n",
       "Name: location, Length: 1197, dtype: float64"
      ]
     },
     "execution_count": 25,
     "metadata": {},
     "output_type": "execute_result"
    }
   ],
   "source": [
    "train_df['location'].value_counts(normalize=True)"
   ]
  },
  {
   "cell_type": "code",
   "execution_count": 26,
   "id": "6a36bad3",
   "metadata": {},
   "outputs": [],
   "source": [
    "def find_alpha(text):\n",
    "    result = re.findall(\"[A-Za-z]\", text)\n",
    "    return ''.join(result)"
   ]
  },
  {
   "cell_type": "code",
   "execution_count": 27,
   "id": "4363f87e",
   "metadata": {
    "scrolled": false
   },
   "outputs": [
    {
     "data": {
      "text/plain": [
       "area_type         0.000000\n",
       "availability      0.000000\n",
       "location          0.000000\n",
       "size              0.000000\n",
       "total_sqft        0.000000\n",
       "bath              0.000000\n",
       "balcony           0.000000\n",
       "price             0.000000\n",
       "avg_2bhk_rent     0.656062\n",
       "dist_from_city    0.096284\n",
       "dtype: float64"
      ]
     },
     "execution_count": 27,
     "metadata": {},
     "output_type": "execute_result"
    }
   ],
   "source": [
    "# filling missing values\n",
    "train_df['size'] = train_df['size'].fillna(train_df['size'].mode()[0])\n",
    "\n",
    "# data cleaning\n",
    "train_df['size'] = train_df['size'].str.extract('(\\d+)')\n",
    "train_df['size'] = train_df['size'].astype(int)\n",
    "\n",
    "# filling missing values\n",
    "train_df['balcony'] = train_df['balcony'].fillna(train_df['balcony'].mode()[0])\n",
    "train_df['location'] = train_df['location'].fillna(train_df['location'].mode()[0])\n",
    "train_df['bath'] = train_df['bath'].fillna(train_df['bath'].mode()[0])\n",
    "\n",
    "# data formating\n",
    "train_df['bath'] = train_df['bath'].astype(int)\n",
    "train_df['balcony'] = train_df['balcony'].astype(int)\n",
    "\n",
    "train_df.isna().sum()/len(train_df)"
   ]
  },
  {
   "cell_type": "code",
   "execution_count": 28,
   "id": "138c6cba",
   "metadata": {
    "scrolled": true
   },
   "outputs": [
    {
     "data": {
      "image/png": "[encoded data removed]",
      "text/plain": [
       "<Figure size 720x360 with 2 Axes>"
      ]
     },
     "metadata": {
      "needs_background": "light"
     },
     "output_type": "display_data"
    }
   ],
   "source": [
    "plt.figure(figsize=(10,5))\n",
    "plt.subplot(1,2,1)\n",
    "train_df['avg_2bhk_rent'].plot(kind='kde')\n",
    "plt.subplot(1,2,2)\n",
    "train_df['dist_from_city'].plot(kind='kde')\n",
    "plt.show()"
   ]
  },
  {
   "cell_type": "code",
   "execution_count": 29,
   "id": "3a984bb5",
   "metadata": {},
   "outputs": [
    {
     "data": {
      "text/plain": [
       "Series([], dtype: float64)"
      ]
     },
     "execution_count": 29,
     "metadata": {},
     "output_type": "execute_result"
    }
   ],
   "source": [
    "impu = KNNImputer() \n",
    "impu_df = train_df[['avg_2bhk_rent','dist_from_city']].copy()\n",
    "impu_arr = impu.fit_transform(impu_df)\n",
    "impu_df = pd.DataFrame(impu_arr, columns=impu_df.columns) \n",
    "train_df['avg_2bhk_rent'] = train_df['avg_2bhk_rent'].fillna(round(impu_df['avg_2bhk_rent']))\n",
    "train_df['dist_from_city'] = train_df['dist_from_city'].fillna(round(impu_df['dist_from_city'],1))\n",
    "sr = train_df.isna().sum()/len(train_df)\n",
    "sr[sr>0]"
   ]
  },
  {
   "cell_type": "code",
   "execution_count": 30,
   "id": "f744683c",
   "metadata": {},
   "outputs": [
    {
     "data": {
      "image/png": "[encoded data removed]",
      "text/plain": [
       "<Figure size 720x360 with 2 Axes>"
      ]
     },
     "metadata": {
      "needs_background": "light"
     },
     "output_type": "display_data"
    }
   ],
   "source": [
    "plt.figure(figsize=(10,5))\n",
    "plt.subplot(1,2,1)\n",
    "train_df['avg_2bhk_rent'].plot(kind='kde')\n",
    "plt.subplot(1,2,2)\n",
    "train_df['dist_from_city'].plot(kind='kde')\n",
    "plt.show()"
   ]
  },
  {
   "cell_type": "code",
   "execution_count": 31,
   "id": "ee961be5",
   "metadata": {},
   "outputs": [
    {
     "data": {
      "text/html": [
       "<div>\n",
       "<style scoped>\n",
       "    .dataframe tbody tr th:only-of-type {\n",
       "        vertical-align: middle;\n",
       "    }\n",
       "\n",
       "    .dataframe tbody tr th {\n",
       "        vertical-align: top;\n",
       "    }\n",
       "\n",
       "    .dataframe thead th {\n",
       "        text-align: right;\n",
       "    }\n",
       "</style>\n",
       "<table border=\"1\" class=\"dataframe\">\n",
       "  <thead>\n",
       "    <tr style=\"text-align: right;\">\n",
       "      <th></th>\n",
       "      <th>area_type</th>\n",
       "      <th>availability</th>\n",
       "      <th>size</th>\n",
       "      <th>total_sqft</th>\n",
       "      <th>bath</th>\n",
       "      <th>balcony</th>\n",
       "      <th>price</th>\n",
       "      <th>avg_2bhk_rent</th>\n",
       "      <th>dist_from_city</th>\n",
       "    </tr>\n",
       "  </thead>\n",
       "  <tbody>\n",
       "    <tr>\n",
       "      <th>0</th>\n",
       "      <td>Super built-up  Area</td>\n",
       "      <td>UnderConstruction</td>\n",
       "      <td>2</td>\n",
       "      <td>1056.0</td>\n",
       "      <td>2</td>\n",
       "      <td>1</td>\n",
       "      <td>39.07</td>\n",
       "      <td>11500.0</td>\n",
       "      <td>19.3</td>\n",
       "    </tr>\n",
       "    <tr>\n",
       "      <th>1</th>\n",
       "      <td>Plot  Area</td>\n",
       "      <td>ReadyToMove</td>\n",
       "      <td>4</td>\n",
       "      <td>2600.0</td>\n",
       "      <td>5</td>\n",
       "      <td>3</td>\n",
       "      <td>120.00</td>\n",
       "      <td>7500.0</td>\n",
       "      <td>34.6</td>\n",
       "    </tr>\n",
       "    <tr>\n",
       "      <th>2</th>\n",
       "      <td>Built-up  Area</td>\n",
       "      <td>ReadyToMove</td>\n",
       "      <td>3</td>\n",
       "      <td>1440.0</td>\n",
       "      <td>2</td>\n",
       "      <td>3</td>\n",
       "      <td>62.00</td>\n",
       "      <td>19750.0</td>\n",
       "      <td>12.9</td>\n",
       "    </tr>\n",
       "    <tr>\n",
       "      <th>3</th>\n",
       "      <td>Super built-up  Area</td>\n",
       "      <td>ReadyToMove</td>\n",
       "      <td>3</td>\n",
       "      <td>1521.0</td>\n",
       "      <td>3</td>\n",
       "      <td>1</td>\n",
       "      <td>95.00</td>\n",
       "      <td>14300.0</td>\n",
       "      <td>21.4</td>\n",
       "    </tr>\n",
       "    <tr>\n",
       "      <th>4</th>\n",
       "      <td>Super built-up  Area</td>\n",
       "      <td>ReadyToMove</td>\n",
       "      <td>2</td>\n",
       "      <td>1200.0</td>\n",
       "      <td>2</td>\n",
       "      <td>1</td>\n",
       "      <td>51.00</td>\n",
       "      <td>16375.0</td>\n",
       "      <td>11.8</td>\n",
       "    </tr>\n",
       "  </tbody>\n",
       "</table>\n",
       "</div>"
      ],
      "text/plain": [
       "              area_type       availability  size  total_sqft  bath  balcony  \\\n",
       "0  Super built-up  Area  UnderConstruction     2      1056.0     2        1   \n",
       "1            Plot  Area        ReadyToMove     4      2600.0     5        3   \n",
       "2        Built-up  Area        ReadyToMove     3      1440.0     2        3   \n",
       "3  Super built-up  Area        ReadyToMove     3      1521.0     3        1   \n",
       "4  Super built-up  Area        ReadyToMove     2      1200.0     2        1   \n",
       "\n",
       "    price  avg_2bhk_rent  dist_from_city  \n",
       "0   39.07        11500.0            19.3  \n",
       "1  120.00         7500.0            34.6  \n",
       "2   62.00        19750.0            12.9  \n",
       "3   95.00        14300.0            21.4  \n",
       "4   51.00        16375.0            11.8  "
      ]
     },
     "execution_count": 31,
     "metadata": {},
     "output_type": "execute_result"
    }
   ],
   "source": [
    "train_df = train_df.drop(columns=['location'])\n",
    "train_df.head()"
   ]
  },
  {
   "cell_type": "markdown",
   "id": "89507e40",
   "metadata": {},
   "source": [
    "# Encoding"
   ]
  },
  {
   "cell_type": "code",
   "execution_count": 32,
   "id": "00abbe93",
   "metadata": {
    "scrolled": true
   },
   "outputs": [
    {
     "data": {
      "text/html": [
       "<div>\n",
       "<style scoped>\n",
       "    .dataframe tbody tr th:only-of-type {\n",
       "        vertical-align: middle;\n",
       "    }\n",
       "\n",
       "    .dataframe tbody tr th {\n",
       "        vertical-align: top;\n",
       "    }\n",
       "\n",
       "    .dataframe thead th {\n",
       "        text-align: right;\n",
       "    }\n",
       "</style>\n",
       "<table border=\"1\" class=\"dataframe\">\n",
       "  <thead>\n",
       "    <tr style=\"text-align: right;\">\n",
       "      <th></th>\n",
       "      <th>size</th>\n",
       "      <th>total_sqft</th>\n",
       "      <th>bath</th>\n",
       "      <th>balcony</th>\n",
       "      <th>price</th>\n",
       "      <th>avg_2bhk_rent</th>\n",
       "      <th>dist_from_city</th>\n",
       "      <th>area_type_Built-up  Area</th>\n",
       "      <th>area_type_Carpet  Area</th>\n",
       "      <th>area_type_Plot  Area</th>\n",
       "      <th>area_type_Super built-up  Area</th>\n",
       "      <th>availability_ImmediatePossession</th>\n",
       "      <th>availability_ReadyToMove</th>\n",
       "      <th>availability_UnderConstruction</th>\n",
       "    </tr>\n",
       "  </thead>\n",
       "  <tbody>\n",
       "    <tr>\n",
       "      <th>0</th>\n",
       "      <td>2</td>\n",
       "      <td>1056.0</td>\n",
       "      <td>2</td>\n",
       "      <td>1</td>\n",
       "      <td>39.07</td>\n",
       "      <td>11500.0</td>\n",
       "      <td>19.3</td>\n",
       "      <td>0</td>\n",
       "      <td>0</td>\n",
       "      <td>0</td>\n",
       "      <td>1</td>\n",
       "      <td>0</td>\n",
       "      <td>0</td>\n",
       "      <td>1</td>\n",
       "    </tr>\n",
       "    <tr>\n",
       "      <th>1</th>\n",
       "      <td>4</td>\n",
       "      <td>2600.0</td>\n",
       "      <td>5</td>\n",
       "      <td>3</td>\n",
       "      <td>120.00</td>\n",
       "      <td>7500.0</td>\n",
       "      <td>34.6</td>\n",
       "      <td>0</td>\n",
       "      <td>0</td>\n",
       "      <td>1</td>\n",
       "      <td>0</td>\n",
       "      <td>0</td>\n",
       "      <td>1</td>\n",
       "      <td>0</td>\n",
       "    </tr>\n",
       "    <tr>\n",
       "      <th>2</th>\n",
       "      <td>3</td>\n",
       "      <td>1440.0</td>\n",
       "      <td>2</td>\n",
       "      <td>3</td>\n",
       "      <td>62.00</td>\n",
       "      <td>19750.0</td>\n",
       "      <td>12.9</td>\n",
       "      <td>1</td>\n",
       "      <td>0</td>\n",
       "      <td>0</td>\n",
       "      <td>0</td>\n",
       "      <td>0</td>\n",
       "      <td>1</td>\n",
       "      <td>0</td>\n",
       "    </tr>\n",
       "    <tr>\n",
       "      <th>3</th>\n",
       "      <td>3</td>\n",
       "      <td>1521.0</td>\n",
       "      <td>3</td>\n",
       "      <td>1</td>\n",
       "      <td>95.00</td>\n",
       "      <td>14300.0</td>\n",
       "      <td>21.4</td>\n",
       "      <td>0</td>\n",
       "      <td>0</td>\n",
       "      <td>0</td>\n",
       "      <td>1</td>\n",
       "      <td>0</td>\n",
       "      <td>1</td>\n",
       "      <td>0</td>\n",
       "    </tr>\n",
       "    <tr>\n",
       "      <th>4</th>\n",
       "      <td>2</td>\n",
       "      <td>1200.0</td>\n",
       "      <td>2</td>\n",
       "      <td>1</td>\n",
       "      <td>51.00</td>\n",
       "      <td>16375.0</td>\n",
       "      <td>11.8</td>\n",
       "      <td>0</td>\n",
       "      <td>0</td>\n",
       "      <td>0</td>\n",
       "      <td>1</td>\n",
       "      <td>0</td>\n",
       "      <td>1</td>\n",
       "      <td>0</td>\n",
       "    </tr>\n",
       "  </tbody>\n",
       "</table>\n",
       "</div>"
      ],
      "text/plain": [
       "   size  total_sqft  bath  balcony   price  avg_2bhk_rent  dist_from_city  \\\n",
       "0     2      1056.0     2        1   39.07        11500.0            19.3   \n",
       "1     4      2600.0     5        3  120.00         7500.0            34.6   \n",
       "2     3      1440.0     2        3   62.00        19750.0            12.9   \n",
       "3     3      1521.0     3        1   95.00        14300.0            21.4   \n",
       "4     2      1200.0     2        1   51.00        16375.0            11.8   \n",
       "\n",
       "   area_type_Built-up  Area  area_type_Carpet  Area  area_type_Plot  Area  \\\n",
       "0                         0                       0                     0   \n",
       "1                         0                       0                     1   \n",
       "2                         1                       0                     0   \n",
       "3                         0                       0                     0   \n",
       "4                         0                       0                     0   \n",
       "\n",
       "   area_type_Super built-up  Area  availability_ImmediatePossession  \\\n",
       "0                               1                                 0   \n",
       "1                               0                                 0   \n",
       "2                               0                                 0   \n",
       "3                               1                                 0   \n",
       "4                               1                                 0   \n",
       "\n",
       "   availability_ReadyToMove  availability_UnderConstruction  \n",
       "0                         0                               1  \n",
       "1                         1                               0  \n",
       "2                         1                               0  \n",
       "3                         1                               0  \n",
       "4                         1                               0  "
      ]
     },
     "execution_count": 32,
     "metadata": {},
     "output_type": "execute_result"
    }
   ],
   "source": [
    "train_df = pd.get_dummies(train_df)\n",
    "train_df.head()"
   ]
  },
  {
   "cell_type": "markdown",
   "id": "d7765271",
   "metadata": {},
   "source": [
    "# Handling Outliers"
   ]
  },
  {
   "cell_type": "code",
   "execution_count": 33,
   "id": "df84edc2",
   "metadata": {
    "scrolled": true
   },
   "outputs": [
    {
     "data": {
      "text/plain": [
       "total_sqft                          56.196758\n",
       "avg_2bhk_rent                       38.282387\n",
       "availability_ImmediatePossession    27.538295\n",
       "area_type_Carpet  Area              12.307881\n",
       "price                                6.751465\n",
       "size                                 5.255641\n",
       "bath                                 4.580424\n",
       "area_type_Plot  Area                 1.907521\n",
       "area_type_Built-up  Area             1.658726\n",
       "dist_from_city                       1.588947\n",
       "availability_UnderConstruction       1.469176\n",
       "balcony                             -0.065702\n",
       "area_type_Super built-up  Area      -0.665063\n",
       "availability_ReadyToMove            -1.459173\n",
       "dtype: float64"
      ]
     },
     "execution_count": 33,
     "metadata": {},
     "output_type": "execute_result"
    }
   ],
   "source": [
    "train_df.skew().sort_values(ascending=False)"
   ]
  },
  {
   "cell_type": "code",
   "execution_count": 34,
   "id": "378e20e3",
   "metadata": {
    "scrolled": true
   },
   "outputs": [
    {
     "data": {
      "text/plain": [
       "price                             6.751465\n",
       "area_type_Plot  Area              1.907521\n",
       "area_type_Built-up  Area          1.658726\n",
       "availability_UnderConstruction    1.469176\n",
       "total_sqft                        0.762481\n",
       "bath                              0.473921\n",
       "dist_from_city                    0.380470\n",
       "size                              0.132901\n",
       "avg_2bhk_rent                     0.092203\n",
       "balcony                          -0.065702\n",
       "area_type_Super built-up  Area   -0.665063\n",
       "availability_ReadyToMove         -1.459173\n",
       "dtype: float64"
      ]
     },
     "execution_count": 34,
     "metadata": {},
     "output_type": "execute_result"
    }
   ],
   "source": [
    "out_train_df = train_df.copy()\n",
    "out_train_df = out_train_df.drop(columns=['availability_ImmediatePossession','area_type_Carpet  Area'])\n",
    "for col in ['size', 'bath', 'total_sqft','avg_2bhk_rent','dist_from_city']:\n",
    "    q1 = train_df[col].quantile(0.25)\n",
    "    q3 = train_df[col].quantile(0.75)\n",
    "    iqr = q3 - q1\n",
    "    lb = round(q1 - 1.5*iqr)\n",
    "    ub = round(q3 + 1.5*iqr)\n",
    "    out_train_df.loc[out_train_df[col]<lb, col] = lb\n",
    "    out_train_df.loc[out_train_df[col]>ub, col] = ub\n",
    "    \n",
    "out_train_df.skew().sort_values(ascending=False)"
   ]
  },
  {
   "cell_type": "code",
   "execution_count": 35,
   "id": "8e4f61bb",
   "metadata": {},
   "outputs": [
    {
     "data": {
      "text/plain": [
       "'9.68%'"
      ]
     },
     "execution_count": 35,
     "metadata": {},
     "output_type": "execute_result"
    }
   ],
   "source": [
    "# Percentage of Outliers in the target variable\n",
    "q1 = train_df['price'].quantile(0.25)\n",
    "q3 = train_df['price'].quantile(0.75)\n",
    "iqr = q3 - q1\n",
    "lb = round(q1 - 1.5*iqr)\n",
    "ub = round(q3 + 1.5*iqr)\n",
    "'{:.2%}'.format(train_df[(train_df['price']<lb)|(train_df['price']>ub)].shape[0]/train_df.shape[0])"
   ]
  },
  {
   "cell_type": "markdown",
   "id": "af4914f9",
   "metadata": {},
   "source": [
    "# Train Test Split"
   ]
  },
  {
   "cell_type": "code",
   "execution_count": 36,
   "id": "35dfd75d",
   "metadata": {},
   "outputs": [
    {
     "data": {
      "text/plain": [
       "((8524, 11), (2132, 11), (8524,), (2132,))"
      ]
     },
     "execution_count": 36,
     "metadata": {},
     "output_type": "execute_result"
    }
   ],
   "source": [
    "X = out_train_df.drop(columns=['price'])\n",
    "y = out_train_df['price']\n",
    "xtrain,xvalid,ytrain,yvalid = train_test_split(X, y, test_size=0.2, random_state=0)\n",
    "xtrain.shape,xvalid.shape,ytrain.shape,yvalid.shape"
   ]
  },
  {
   "cell_type": "code",
   "execution_count": 37,
   "id": "c2247ffb",
   "metadata": {
    "scrolled": true
   },
   "outputs": [
    {
     "data": {
      "text/html": [
       "<div>\n",
       "<style scoped>\n",
       "    .dataframe tbody tr th:only-of-type {\n",
       "        vertical-align: middle;\n",
       "    }\n",
       "\n",
       "    .dataframe tbody tr th {\n",
       "        vertical-align: top;\n",
       "    }\n",
       "\n",
       "    .dataframe thead th {\n",
       "        text-align: right;\n",
       "    }\n",
       "</style>\n",
       "<table border=\"1\" class=\"dataframe\">\n",
       "  <thead>\n",
       "    <tr style=\"text-align: right;\">\n",
       "      <th></th>\n",
       "      <th>size</th>\n",
       "      <th>total_sqft</th>\n",
       "      <th>bath</th>\n",
       "      <th>balcony</th>\n",
       "      <th>avg_2bhk_rent</th>\n",
       "      <th>dist_from_city</th>\n",
       "      <th>area_type_Built-up  Area</th>\n",
       "      <th>area_type_Plot  Area</th>\n",
       "      <th>area_type_Super built-up  Area</th>\n",
       "      <th>availability_ReadyToMove</th>\n",
       "      <th>availability_UnderConstruction</th>\n",
       "    </tr>\n",
       "  </thead>\n",
       "  <tbody>\n",
       "    <tr>\n",
       "      <th>0</th>\n",
       "      <td>2</td>\n",
       "      <td>1056.0</td>\n",
       "      <td>2</td>\n",
       "      <td>1</td>\n",
       "      <td>11500.0</td>\n",
       "      <td>19.3</td>\n",
       "      <td>0</td>\n",
       "      <td>0</td>\n",
       "      <td>1</td>\n",
       "      <td>0</td>\n",
       "      <td>1</td>\n",
       "    </tr>\n",
       "    <tr>\n",
       "      <th>1</th>\n",
       "      <td>4</td>\n",
       "      <td>2550.0</td>\n",
       "      <td>4</td>\n",
       "      <td>3</td>\n",
       "      <td>7500.0</td>\n",
       "      <td>26.0</td>\n",
       "      <td>0</td>\n",
       "      <td>1</td>\n",
       "      <td>0</td>\n",
       "      <td>1</td>\n",
       "      <td>0</td>\n",
       "    </tr>\n",
       "    <tr>\n",
       "      <th>2</th>\n",
       "      <td>3</td>\n",
       "      <td>1440.0</td>\n",
       "      <td>2</td>\n",
       "      <td>3</td>\n",
       "      <td>19750.0</td>\n",
       "      <td>12.9</td>\n",
       "      <td>1</td>\n",
       "      <td>0</td>\n",
       "      <td>0</td>\n",
       "      <td>1</td>\n",
       "      <td>0</td>\n",
       "    </tr>\n",
       "    <tr>\n",
       "      <th>3</th>\n",
       "      <td>3</td>\n",
       "      <td>1521.0</td>\n",
       "      <td>3</td>\n",
       "      <td>1</td>\n",
       "      <td>14300.0</td>\n",
       "      <td>21.4</td>\n",
       "      <td>0</td>\n",
       "      <td>0</td>\n",
       "      <td>1</td>\n",
       "      <td>1</td>\n",
       "      <td>0</td>\n",
       "    </tr>\n",
       "    <tr>\n",
       "      <th>4</th>\n",
       "      <td>2</td>\n",
       "      <td>1200.0</td>\n",
       "      <td>2</td>\n",
       "      <td>1</td>\n",
       "      <td>16375.0</td>\n",
       "      <td>11.8</td>\n",
       "      <td>0</td>\n",
       "      <td>0</td>\n",
       "      <td>1</td>\n",
       "      <td>1</td>\n",
       "      <td>0</td>\n",
       "    </tr>\n",
       "  </tbody>\n",
       "</table>\n",
       "</div>"
      ],
      "text/plain": [
       "   size  total_sqft  bath  balcony  avg_2bhk_rent  dist_from_city  \\\n",
       "0     2      1056.0     2        1        11500.0            19.3   \n",
       "1     4      2550.0     4        3         7500.0            26.0   \n",
       "2     3      1440.0     2        3        19750.0            12.9   \n",
       "3     3      1521.0     3        1        14300.0            21.4   \n",
       "4     2      1200.0     2        1        16375.0            11.8   \n",
       "\n",
       "   area_type_Built-up  Area  area_type_Plot  Area  \\\n",
       "0                         0                     0   \n",
       "1                         0                     1   \n",
       "2                         1                     0   \n",
       "3                         0                     0   \n",
       "4                         0                     0   \n",
       "\n",
       "   area_type_Super built-up  Area  availability_ReadyToMove  \\\n",
       "0                               1                         0   \n",
       "1                               0                         1   \n",
       "2                               0                         1   \n",
       "3                               1                         1   \n",
       "4                               1                         1   \n",
       "\n",
       "   availability_UnderConstruction  \n",
       "0                               1  \n",
       "1                               0  \n",
       "2                               0  \n",
       "3                               0  \n",
       "4                               0  "
      ]
     },
     "execution_count": 37,
     "metadata": {},
     "output_type": "execute_result"
    }
   ],
   "source": [
    "X.head()"
   ]
  },
  {
   "cell_type": "markdown",
   "id": "41e92fa1",
   "metadata": {},
   "source": [
    "# Build the model - 1"
   ]
  },
  {
   "cell_type": "code",
   "execution_count": 38,
   "id": "53811d75",
   "metadata": {
    "scrolled": true
   },
   "outputs": [
    {
     "data": {
      "text/html": [
       "<table class=\"simpletable\">\n",
       "<caption>OLS Regression Results</caption>\n",
       "<tr>\n",
       "  <th>Dep. Variable:</th>          <td>price</td>      <th>  R-squared:         </th> <td>   0.403</td> \n",
       "</tr>\n",
       "<tr>\n",
       "  <th>Model:</th>                   <td>OLS</td>       <th>  Adj. R-squared:    </th> <td>   0.403</td> \n",
       "</tr>\n",
       "<tr>\n",
       "  <th>Method:</th>             <td>Least Squares</td>  <th>  F-statistic:       </th> <td>   654.0</td> \n",
       "</tr>\n",
       "<tr>\n",
       "  <th>Date:</th>             <td>Thu, 29 Sep 2022</td> <th>  Prob (F-statistic):</th>  <td>  0.00</td>  \n",
       "</tr>\n",
       "<tr>\n",
       "  <th>Time:</th>                 <td>16:21:36</td>     <th>  Log-Likelihood:    </th> <td> -65195.</td> \n",
       "</tr>\n",
       "<tr>\n",
       "  <th>No. Observations:</th>      <td> 10656</td>      <th>  AIC:               </th> <td>1.304e+05</td>\n",
       "</tr>\n",
       "<tr>\n",
       "  <th>Df Residuals:</th>          <td> 10644</td>      <th>  BIC:               </th> <td>1.305e+05</td>\n",
       "</tr>\n",
       "<tr>\n",
       "  <th>Df Model:</th>              <td>    11</td>      <th>                     </th>     <td> </td>    \n",
       "</tr>\n",
       "<tr>\n",
       "  <th>Covariance Type:</th>      <td>nonrobust</td>    <th>                     </th>     <td> </td>    \n",
       "</tr>\n",
       "</table>\n",
       "<table class=\"simpletable\">\n",
       "<tr>\n",
       "                 <td></td>                   <th>coef</th>     <th>std err</th>      <th>t</th>      <th>P>|t|</th>  <th>[0.025</th>    <th>0.975]</th>  \n",
       "</tr>\n",
       "<tr>\n",
       "  <th>const</th>                          <td> -172.4761</td> <td>   33.227</td> <td>   -5.191</td> <td> 0.000</td> <td> -237.606</td> <td> -107.346</td>\n",
       "</tr>\n",
       "<tr>\n",
       "  <th>size</th>                           <td>   -5.1321</td> <td>    2.654</td> <td>   -1.934</td> <td> 0.053</td> <td>  -10.334</td> <td>    0.069</td>\n",
       "</tr>\n",
       "<tr>\n",
       "  <th>total_sqft</th>                     <td>    0.1364</td> <td>    0.003</td> <td>   47.562</td> <td> 0.000</td> <td>    0.131</td> <td>    0.142</td>\n",
       "</tr>\n",
       "<tr>\n",
       "  <th>bath</th>                           <td>   14.6525</td> <td>    2.601</td> <td>    5.634</td> <td> 0.000</td> <td>    9.555</td> <td>   19.750</td>\n",
       "</tr>\n",
       "<tr>\n",
       "  <th>balcony</th>                        <td>   -1.8878</td> <td>    1.440</td> <td>   -1.311</td> <td> 0.190</td> <td>   -4.710</td> <td>    0.935</td>\n",
       "</tr>\n",
       "<tr>\n",
       "  <th>avg_2bhk_rent</th>                  <td>-6.152e-05</td> <td>    0.000</td> <td>   -0.265</td> <td> 0.791</td> <td>   -0.001</td> <td>    0.000</td>\n",
       "</tr>\n",
       "<tr>\n",
       "  <th>dist_from_city</th>                 <td>   -3.4293</td> <td>    0.224</td> <td>  -15.322</td> <td> 0.000</td> <td>   -3.868</td> <td>   -2.991</td>\n",
       "</tr>\n",
       "<tr>\n",
       "  <th>area_type_Built-up  Area</th>       <td>  -19.1395</td> <td>   13.497</td> <td>   -1.418</td> <td> 0.156</td> <td>  -45.596</td> <td>    7.317</td>\n",
       "</tr>\n",
       "<tr>\n",
       "  <th>area_type_Plot  Area</th>           <td>   66.1446</td> <td>   13.594</td> <td>    4.866</td> <td> 0.000</td> <td>   39.497</td> <td>   92.792</td>\n",
       "</tr>\n",
       "<tr>\n",
       "  <th>area_type_Super built-up  Area</th> <td>  -20.7591</td> <td>   13.322</td> <td>   -1.558</td> <td> 0.119</td> <td>  -46.873</td> <td>    5.355</td>\n",
       "</tr>\n",
       "<tr>\n",
       "  <th>availability_ReadyToMove</th>       <td>  126.4627</td> <td>   29.817</td> <td>    4.241</td> <td> 0.000</td> <td>   68.015</td> <td>  184.910</td>\n",
       "</tr>\n",
       "<tr>\n",
       "  <th>availability_UnderConstruction</th> <td>  134.5715</td> <td>   29.904</td> <td>    4.500</td> <td> 0.000</td> <td>   75.954</td> <td>  193.189</td>\n",
       "</tr>\n",
       "</table>\n",
       "<table class=\"simpletable\">\n",
       "<tr>\n",
       "  <th>Omnibus:</th>       <td>15501.279</td> <th>  Durbin-Watson:     </th>  <td>   2.023</td>  \n",
       "</tr>\n",
       "<tr>\n",
       "  <th>Prob(Omnibus):</th>  <td> 0.000</td>   <th>  Jarque-Bera (JB):  </th> <td>6856682.354</td>\n",
       "</tr>\n",
       "<tr>\n",
       "  <th>Skew:</th>           <td> 8.730</td>   <th>  Prob(JB):          </th>  <td>    0.00</td>  \n",
       "</tr>\n",
       "<tr>\n",
       "  <th>Kurtosis:</th>       <td>126.037</td>  <th>  Cond. No.          </th>  <td>7.91e+05</td>  \n",
       "</tr>\n",
       "</table><br/><br/>Notes:<br/>[1] Standard Errors assume that the covariance matrix of the errors is correctly specified.<br/>[2] The condition number is large, 7.91e+05. This might indicate that there are<br/>strong multicollinearity or other numerical problems."
      ],
      "text/plain": [
       "<class 'statsmodels.iolib.summary.Summary'>\n",
       "\"\"\"\n",
       "                            OLS Regression Results                            \n",
       "==============================================================================\n",
       "Dep. Variable:                  price   R-squared:                       0.403\n",
       "Model:                            OLS   Adj. R-squared:                  0.403\n",
       "Method:                 Least Squares   F-statistic:                     654.0\n",
       "Date:                Thu, 29 Sep 2022   Prob (F-statistic):               0.00\n",
       "Time:                        16:21:36   Log-Likelihood:                -65195.\n",
       "No. Observations:               10656   AIC:                         1.304e+05\n",
       "Df Residuals:                   10644   BIC:                         1.305e+05\n",
       "Df Model:                          11                                         \n",
       "Covariance Type:            nonrobust                                         \n",
       "==================================================================================================\n",
       "                                     coef    std err          t      P>|t|      [0.025      0.975]\n",
       "--------------------------------------------------------------------------------------------------\n",
       "const                           -172.4761     33.227     -5.191      0.000    -237.606    -107.346\n",
       "size                              -5.1321      2.654     -1.934      0.053     -10.334       0.069\n",
       "total_sqft                         0.1364      0.003     47.562      0.000       0.131       0.142\n",
       "bath                              14.6525      2.601      5.634      0.000       9.555      19.750\n",
       "balcony                           -1.8878      1.440     -1.311      0.190      -4.710       0.935\n",
       "avg_2bhk_rent                  -6.152e-05      0.000     -0.265      0.791      -0.001       0.000\n",
       "dist_from_city                    -3.4293      0.224    -15.322      0.000      -3.868      -2.991\n",
       "area_type_Built-up  Area         -19.1395     13.497     -1.418      0.156     -45.596       7.317\n",
       "area_type_Plot  Area              66.1446     13.594      4.866      0.000      39.497      92.792\n",
       "area_type_Super built-up  Area   -20.7591     13.322     -1.558      0.119     -46.873       5.355\n",
       "availability_ReadyToMove         126.4627     29.817      4.241      0.000      68.015     184.910\n",
       "availability_UnderConstruction   134.5715     29.904      4.500      0.000      75.954     193.189\n",
       "==============================================================================\n",
       "Omnibus:                    15501.279   Durbin-Watson:                   2.023\n",
       "Prob(Omnibus):                  0.000   Jarque-Bera (JB):          6856682.354\n",
       "Skew:                           8.730   Prob(JB):                         0.00\n",
       "Kurtosis:                     126.037   Cond. No.                     7.91e+05\n",
       "==============================================================================\n",
       "\n",
       "Notes:\n",
       "[1] Standard Errors assume that the covariance matrix of the errors is correctly specified.\n",
       "[2] The condition number is large, 7.91e+05. This might indicate that there are\n",
       "strong multicollinearity or other numerical problems.\n",
       "\"\"\""
      ]
     },
     "execution_count": 38,
     "metadata": {},
     "output_type": "execute_result"
    }
   ],
   "source": [
    "import statsmodels.api as sm\n",
    "\n",
    "Xc = sm.add_constant(X)\n",
    "model = sm.OLS(y, Xc)\n",
    "model = model.fit()\n",
    "model.summary()"
   ]
  },
  {
   "cell_type": "code",
   "execution_count": 39,
   "id": "ee0e4749",
   "metadata": {},
   "outputs": [
    {
     "data": {
      "text/plain": [
       "109.86371824804141"
      ]
     },
     "execution_count": 39,
     "metadata": {},
     "output_type": "execute_result"
    }
   ],
   "source": [
    "np.sqrt(np.sum(model.resid**2)/len(y))"
   ]
  },
  {
   "cell_type": "code",
   "execution_count": 40,
   "id": "48260e2f",
   "metadata": {},
   "outputs": [
    {
     "data": {
      "text/plain": [
       "8.731458226090114"
      ]
     },
     "execution_count": 40,
     "metadata": {},
     "output_type": "execute_result"
    }
   ],
   "source": [
    "model.resid.skew()"
   ]
  },
  {
   "cell_type": "code",
   "execution_count": 41,
   "id": "1cc819f5",
   "metadata": {},
   "outputs": [
    {
     "data": {
      "text/plain": [
       "const                            -172.476055\n",
       "area_type_Super built-up  Area    -20.759111\n",
       "area_type_Built-up  Area          -19.139500\n",
       "size                               -5.132149\n",
       "dist_from_city                     -3.429297\n",
       "balcony                            -1.887780\n",
       "avg_2bhk_rent                      -0.000062\n",
       "total_sqft                          0.136403\n",
       "bath                               14.652537\n",
       "area_type_Plot  Area               66.144583\n",
       "availability_ReadyToMove          126.462699\n",
       "availability_UnderConstruction    134.571527\n",
       "dtype: float64"
      ]
     },
     "execution_count": 41,
     "metadata": {},
     "output_type": "execute_result"
    }
   ],
   "source": [
    "model.params.sort_values()"
   ]
  },
  {
   "cell_type": "markdown",
   "id": "bee392db",
   "metadata": {},
   "source": [
    "# Transform the output variable"
   ]
  },
  {
   "cell_type": "code",
   "execution_count": 42,
   "id": "8fa79795",
   "metadata": {},
   "outputs": [
    {
     "data": {
      "text/plain": [
       "(-0.02571003587462261, -0.32479328235953303)"
      ]
     },
     "execution_count": 42,
     "metadata": {},
     "output_type": "execute_result"
    }
   ],
   "source": [
    "from scipy import stats\n",
    "y_trans,param = pd.Series(stats.boxcox(y)[0]),stats.boxcox(y)[1]\n",
    "y_trans.skew(), param"
   ]
  },
  {
   "cell_type": "code",
   "execution_count": 43,
   "id": "1cab6b57",
   "metadata": {},
   "outputs": [
    {
     "data": {
      "text/plain": [
       "['balcony',\n",
       " 'avg_2bhk_rent',\n",
       " 'area_type_Built-up  Area',\n",
       " 'area_type_Super built-up  Area']"
      ]
     },
     "execution_count": 43,
     "metadata": {},
     "output_type": "execute_result"
    }
   ],
   "source": [
    "pv = model.pvalues.round(2)\n",
    "pv_columns = pv[pv>0.05].index.tolist()\n",
    "pv_columns"
   ]
  },
  {
   "cell_type": "markdown",
   "id": "1d001d12",
   "metadata": {},
   "source": [
    "# Build the model - 2"
   ]
  },
  {
   "cell_type": "code",
   "execution_count": 44,
   "id": "c4623abf",
   "metadata": {
    "scrolled": false
   },
   "outputs": [
    {
     "data": {
      "text/html": [
       "<table class=\"simpletable\">\n",
       "<caption>OLS Regression Results</caption>\n",
       "<tr>\n",
       "  <th>Dep. Variable:</th>            <td>y</td>        <th>  R-squared:         </th>  <td>   0.721</td> \n",
       "</tr>\n",
       "<tr>\n",
       "  <th>Model:</th>                   <td>OLS</td>       <th>  Adj. R-squared:    </th>  <td>   0.721</td> \n",
       "</tr>\n",
       "<tr>\n",
       "  <th>Method:</th>             <td>Least Squares</td>  <th>  F-statistic:       </th>  <td>   3929.</td> \n",
       "</tr>\n",
       "<tr>\n",
       "  <th>Date:</th>             <td>Thu, 29 Sep 2022</td> <th>  Prob (F-statistic):</th>   <td>  0.00</td>  \n",
       "</tr>\n",
       "<tr>\n",
       "  <th>Time:</th>                 <td>16:21:36</td>     <th>  Log-Likelihood:    </th>  <td>  10858.</td> \n",
       "</tr>\n",
       "<tr>\n",
       "  <th>No. Observations:</th>      <td> 10656</td>      <th>  AIC:               </th> <td>-2.170e+04</td>\n",
       "</tr>\n",
       "<tr>\n",
       "  <th>Df Residuals:</th>          <td> 10648</td>      <th>  BIC:               </th> <td>-2.164e+04</td>\n",
       "</tr>\n",
       "<tr>\n",
       "  <th>Df Model:</th>              <td>     7</td>      <th>                     </th>      <td> </td>    \n",
       "</tr>\n",
       "<tr>\n",
       "  <th>Covariance Type:</th>      <td>nonrobust</td>    <th>                     </th>      <td> </td>    \n",
       "</tr>\n",
       "</table>\n",
       "<table class=\"simpletable\">\n",
       "<tr>\n",
       "                 <td></td>                   <th>coef</th>     <th>std err</th>      <th>t</th>      <th>P>|t|</th>  <th>[0.025</th>    <th>0.975]</th>  \n",
       "</tr>\n",
       "<tr>\n",
       "  <th>const</th>                          <td>    1.8181</td> <td>    0.024</td> <td>   75.648</td> <td> 0.000</td> <td>    1.771</td> <td>    1.865</td>\n",
       "</tr>\n",
       "<tr>\n",
       "  <th>size</th>                           <td>    0.0193</td> <td>    0.002</td> <td>    9.171</td> <td> 0.000</td> <td>    0.015</td> <td>    0.023</td>\n",
       "</tr>\n",
       "<tr>\n",
       "  <th>total_sqft</th>                     <td>    0.0002</td> <td> 2.27e-06</td> <td>   73.477</td> <td> 0.000</td> <td>    0.000</td> <td>    0.000</td>\n",
       "</tr>\n",
       "<tr>\n",
       "  <th>bath</th>                           <td>    0.0358</td> <td>    0.002</td> <td>   17.438</td> <td> 0.000</td> <td>    0.032</td> <td>    0.040</td>\n",
       "</tr>\n",
       "<tr>\n",
       "  <th>dist_from_city</th>                 <td>   -0.0061</td> <td>    0.000</td> <td>  -34.654</td> <td> 0.000</td> <td>   -0.006</td> <td>   -0.006</td>\n",
       "</tr>\n",
       "<tr>\n",
       "  <th>area_type_Plot  Area</th>           <td>    0.0864</td> <td>    0.003</td> <td>   32.434</td> <td> 0.000</td> <td>    0.081</td> <td>    0.092</td>\n",
       "</tr>\n",
       "<tr>\n",
       "  <th>availability_ReadyToMove</th>       <td>    0.2012</td> <td>    0.024</td> <td>    8.499</td> <td> 0.000</td> <td>    0.155</td> <td>    0.248</td>\n",
       "</tr>\n",
       "<tr>\n",
       "  <th>availability_UnderConstruction</th> <td>    0.1959</td> <td>    0.024</td> <td>    8.258</td> <td> 0.000</td> <td>    0.149</td> <td>    0.242</td>\n",
       "</tr>\n",
       "</table>\n",
       "<table class=\"simpletable\">\n",
       "<tr>\n",
       "  <th>Omnibus:</th>       <td>728.882</td> <th>  Durbin-Watson:     </th> <td>   2.017</td>\n",
       "</tr>\n",
       "<tr>\n",
       "  <th>Prob(Omnibus):</th> <td> 0.000</td>  <th>  Jarque-Bera (JB):  </th> <td>2745.674</td>\n",
       "</tr>\n",
       "<tr>\n",
       "  <th>Skew:</th>          <td>-0.260</td>  <th>  Prob(JB):          </th> <td>    0.00</td>\n",
       "</tr>\n",
       "<tr>\n",
       "  <th>Kurtosis:</th>      <td> 5.432</td>  <th>  Cond. No.          </th> <td>7.40e+04</td>\n",
       "</tr>\n",
       "</table><br/><br/>Notes:<br/>[1] Standard Errors assume that the covariance matrix of the errors is correctly specified.<br/>[2] The condition number is large, 7.4e+04. This might indicate that there are<br/>strong multicollinearity or other numerical problems."
      ],
      "text/plain": [
       "<class 'statsmodels.iolib.summary.Summary'>\n",
       "\"\"\"\n",
       "                            OLS Regression Results                            \n",
       "==============================================================================\n",
       "Dep. Variable:                      y   R-squared:                       0.721\n",
       "Model:                            OLS   Adj. R-squared:                  0.721\n",
       "Method:                 Least Squares   F-statistic:                     3929.\n",
       "Date:                Thu, 29 Sep 2022   Prob (F-statistic):               0.00\n",
       "Time:                        16:21:36   Log-Likelihood:                 10858.\n",
       "No. Observations:               10656   AIC:                        -2.170e+04\n",
       "Df Residuals:                   10648   BIC:                        -2.164e+04\n",
       "Df Model:                           7                                         \n",
       "Covariance Type:            nonrobust                                         \n",
       "==================================================================================================\n",
       "                                     coef    std err          t      P>|t|      [0.025      0.975]\n",
       "--------------------------------------------------------------------------------------------------\n",
       "const                              1.8181      0.024     75.648      0.000       1.771       1.865\n",
       "size                               0.0193      0.002      9.171      0.000       0.015       0.023\n",
       "total_sqft                         0.0002   2.27e-06     73.477      0.000       0.000       0.000\n",
       "bath                               0.0358      0.002     17.438      0.000       0.032       0.040\n",
       "dist_from_city                    -0.0061      0.000    -34.654      0.000      -0.006      -0.006\n",
       "area_type_Plot  Area               0.0864      0.003     32.434      0.000       0.081       0.092\n",
       "availability_ReadyToMove           0.2012      0.024      8.499      0.000       0.155       0.248\n",
       "availability_UnderConstruction     0.1959      0.024      8.258      0.000       0.149       0.242\n",
       "==============================================================================\n",
       "Omnibus:                      728.882   Durbin-Watson:                   2.017\n",
       "Prob(Omnibus):                  0.000   Jarque-Bera (JB):             2745.674\n",
       "Skew:                          -0.260   Prob(JB):                         0.00\n",
       "Kurtosis:                       5.432   Cond. No.                     7.40e+04\n",
       "==============================================================================\n",
       "\n",
       "Notes:\n",
       "[1] Standard Errors assume that the covariance matrix of the errors is correctly specified.\n",
       "[2] The condition number is large, 7.4e+04. This might indicate that there are\n",
       "strong multicollinearity or other numerical problems.\n",
       "\"\"\""
      ]
     },
     "execution_count": 44,
     "metadata": {},
     "output_type": "execute_result"
    }
   ],
   "source": [
    "# drop these columns because their p value is > .05\n",
    "X = X.drop(columns=pv_columns)\n",
    "Xc = sm.add_constant(X)\n",
    "model = sm.OLS(y_trans, Xc)\n",
    "model = model.fit()\n",
    "model.summary()"
   ]
  },
  {
   "cell_type": "code",
   "execution_count": 45,
   "id": "ab8b9ef3",
   "metadata": {},
   "outputs": [
    {
     "data": {
      "text/plain": [
       "102.73648933939134"
      ]
     },
     "execution_count": 45,
     "metadata": {},
     "output_type": "execute_result"
    }
   ],
   "source": [
    "ypred = model.predict(Xc)\n",
    "inv_ypred = inv_boxcox(ypred, param)\n",
    "inv_ytrans = inv_boxcox(y_trans, param)\n",
    "inv_rmse = np.sqrt(np.sum((inv_ypred-inv_ytrans)**2)/len(y))\n",
    "inv_rmse"
   ]
  },
  {
   "cell_type": "markdown",
   "id": "05b6edaa",
   "metadata": {},
   "source": [
    "# Remove Multicollinearity"
   ]
  },
  {
   "cell_type": "code",
   "execution_count": 46,
   "id": "3b131497",
   "metadata": {
    "scrolled": true
   },
   "outputs": [
    {
     "name": "stdout",
     "output_type": "stream",
     "text": [
      "size - 47.4\n",
      "total_sqft - 16.48\n",
      "bath - 41.69\n",
      "dist_from_city - 10.37\n",
      "area_type_Plot  Area - 1.52\n",
      "availability_ReadyToMove - 19.46\n",
      "availability_UnderConstruction - 6.0\n"
     ]
    }
   ],
   "source": [
    "from statsmodels.stats.outliers_influence import variance_inflation_factor\n",
    "for col_idx,col in enumerate(X):\n",
    "    print(col,'-',\n",
    "          round(variance_inflation_factor(exog=X.values, exog_idx=col_idx),2))"
   ]
  },
  {
   "cell_type": "code",
   "execution_count": 47,
   "id": "629372af",
   "metadata": {},
   "outputs": [
    {
     "name": "stdout",
     "output_type": "stream",
     "text": [
      "total_sqft - 15.32\n",
      "bath - 21.64\n",
      "dist_from_city - 10.37\n",
      "area_type_Plot  Area - 1.47\n",
      "availability_ReadyToMove - 18.24\n",
      "availability_UnderConstruction - 5.74\n"
     ]
    }
   ],
   "source": [
    "X = X.drop(columns='size')\n",
    "for col_idx,col in enumerate(X):\n",
    "    print(col,'-',\n",
    "          round(variance_inflation_factor(exog=X.values, exog_idx=col_idx),2))"
   ]
  },
  {
   "cell_type": "code",
   "execution_count": 48,
   "id": "45a131ed",
   "metadata": {},
   "outputs": [
    {
     "name": "stdout",
     "output_type": "stream",
     "text": [
      "total_sqft - 14.7\n",
      "bath - 18.37\n",
      "dist_from_city - 5.19\n",
      "area_type_Plot  Area - 1.45\n",
      "availability_UnderConstruction - 1.29\n"
     ]
    }
   ],
   "source": [
    "X = X.drop(columns='availability_ReadyToMove')\n",
    "for col_idx,col in enumerate(X):\n",
    "    print(col,'-',\n",
    "          round(variance_inflation_factor(exog=X.values, exog_idx=col_idx),2))"
   ]
  },
  {
   "cell_type": "code",
   "execution_count": 49,
   "id": "d09df01f",
   "metadata": {
    "scrolled": true
   },
   "outputs": [
    {
     "name": "stdout",
     "output_type": "stream",
     "text": [
      "total_sqft - 4.37\n",
      "dist_from_city - 4.52\n",
      "area_type_Plot  Area - 1.2\n",
      "availability_UnderConstruction - 1.29\n"
     ]
    }
   ],
   "source": [
    "X = X.drop(columns='bath')\n",
    "for col_idx,col in enumerate(X):\n",
    "    print(col,'-',\n",
    "          round(variance_inflation_factor(exog=X.values, exog_idx=col_idx),2))"
   ]
  },
  {
   "cell_type": "markdown",
   "id": "5acdf411",
   "metadata": {},
   "source": [
    "We removed the multicollinearity"
   ]
  },
  {
   "cell_type": "markdown",
   "id": "9485f9f7",
   "metadata": {},
   "source": [
    "# Build the model - 3"
   ]
  },
  {
   "cell_type": "code",
   "execution_count": 50,
   "id": "d6fcae6b",
   "metadata": {
    "scrolled": false
   },
   "outputs": [
    {
     "data": {
      "text/html": [
       "<table class=\"simpletable\">\n",
       "<caption>OLS Regression Results</caption>\n",
       "<tr>\n",
       "  <th>Dep. Variable:</th>            <td>y</td>        <th>  R-squared:         </th>  <td>   0.686</td> \n",
       "</tr>\n",
       "<tr>\n",
       "  <th>Model:</th>                   <td>OLS</td>       <th>  Adj. R-squared:    </th>  <td>   0.686</td> \n",
       "</tr>\n",
       "<tr>\n",
       "  <th>Method:</th>             <td>Least Squares</td>  <th>  F-statistic:       </th>  <td>   5815.</td> \n",
       "</tr>\n",
       "<tr>\n",
       "  <th>Date:</th>             <td>Thu, 29 Sep 2022</td> <th>  Prob (F-statistic):</th>   <td>  0.00</td>  \n",
       "</tr>\n",
       "<tr>\n",
       "  <th>Time:</th>                 <td>16:21:37</td>     <th>  Log-Likelihood:    </th>  <td>  10229.</td> \n",
       "</tr>\n",
       "<tr>\n",
       "  <th>No. Observations:</th>      <td> 10656</td>      <th>  AIC:               </th> <td>-2.045e+04</td>\n",
       "</tr>\n",
       "<tr>\n",
       "  <th>Df Residuals:</th>          <td> 10651</td>      <th>  BIC:               </th> <td>-2.041e+04</td>\n",
       "</tr>\n",
       "<tr>\n",
       "  <th>Df Model:</th>              <td>     4</td>      <th>                     </th>      <td> </td>    \n",
       "</tr>\n",
       "<tr>\n",
       "  <th>Covariance Type:</th>      <td>nonrobust</td>    <th>                     </th>      <td> </td>    \n",
       "</tr>\n",
       "</table>\n",
       "<table class=\"simpletable\">\n",
       "<tr>\n",
       "                 <td></td>                   <th>coef</th>     <th>std err</th>      <th>t</th>      <th>P>|t|</th>  <th>[0.025</th>    <th>0.975]</th>  \n",
       "</tr>\n",
       "<tr>\n",
       "  <th>const</th>                          <td>    2.0823</td> <td>    0.004</td> <td>  514.089</td> <td> 0.000</td> <td>    2.074</td> <td>    2.090</td>\n",
       "</tr>\n",
       "<tr>\n",
       "  <th>total_sqft</th>                     <td>    0.0002</td> <td> 1.71e-06</td> <td>  129.073</td> <td> 0.000</td> <td>    0.000</td> <td>    0.000</td>\n",
       "</tr>\n",
       "<tr>\n",
       "  <th>dist_from_city</th>                 <td>   -0.0064</td> <td>    0.000</td> <td>  -34.250</td> <td> 0.000</td> <td>   -0.007</td> <td>   -0.006</td>\n",
       "</tr>\n",
       "<tr>\n",
       "  <th>area_type_Plot  Area</th>           <td>    0.1256</td> <td>    0.003</td> <td>   50.234</td> <td> 0.000</td> <td>    0.121</td> <td>    0.130</td>\n",
       "</tr>\n",
       "<tr>\n",
       "  <th>availability_UnderConstruction</th> <td>   -0.0076</td> <td>    0.002</td> <td>   -3.355</td> <td> 0.001</td> <td>   -0.012</td> <td>   -0.003</td>\n",
       "</tr>\n",
       "</table>\n",
       "<table class=\"simpletable\">\n",
       "<tr>\n",
       "  <th>Omnibus:</th>       <td>986.490</td> <th>  Durbin-Watson:     </th> <td>   2.009</td>\n",
       "</tr>\n",
       "<tr>\n",
       "  <th>Prob(Omnibus):</th> <td> 0.000</td>  <th>  Jarque-Bera (JB):  </th> <td>3850.401</td>\n",
       "</tr>\n",
       "<tr>\n",
       "  <th>Skew:</th>          <td>-0.407</td>  <th>  Prob(JB):          </th> <td>    0.00</td>\n",
       "</tr>\n",
       "<tr>\n",
       "  <th>Kurtosis:</th>      <td> 5.830</td>  <th>  Cond. No.          </th> <td>6.90e+03</td>\n",
       "</tr>\n",
       "</table><br/><br/>Notes:<br/>[1] Standard Errors assume that the covariance matrix of the errors is correctly specified.<br/>[2] The condition number is large, 6.9e+03. This might indicate that there are<br/>strong multicollinearity or other numerical problems."
      ],
      "text/plain": [
       "<class 'statsmodels.iolib.summary.Summary'>\n",
       "\"\"\"\n",
       "                            OLS Regression Results                            \n",
       "==============================================================================\n",
       "Dep. Variable:                      y   R-squared:                       0.686\n",
       "Model:                            OLS   Adj. R-squared:                  0.686\n",
       "Method:                 Least Squares   F-statistic:                     5815.\n",
       "Date:                Thu, 29 Sep 2022   Prob (F-statistic):               0.00\n",
       "Time:                        16:21:37   Log-Likelihood:                 10229.\n",
       "No. Observations:               10656   AIC:                        -2.045e+04\n",
       "Df Residuals:                   10651   BIC:                        -2.041e+04\n",
       "Df Model:                           4                                         \n",
       "Covariance Type:            nonrobust                                         \n",
       "==================================================================================================\n",
       "                                     coef    std err          t      P>|t|      [0.025      0.975]\n",
       "--------------------------------------------------------------------------------------------------\n",
       "const                              2.0823      0.004    514.089      0.000       2.074       2.090\n",
       "total_sqft                         0.0002   1.71e-06    129.073      0.000       0.000       0.000\n",
       "dist_from_city                    -0.0064      0.000    -34.250      0.000      -0.007      -0.006\n",
       "area_type_Plot  Area               0.1256      0.003     50.234      0.000       0.121       0.130\n",
       "availability_UnderConstruction    -0.0076      0.002     -3.355      0.001      -0.012      -0.003\n",
       "==============================================================================\n",
       "Omnibus:                      986.490   Durbin-Watson:                   2.009\n",
       "Prob(Omnibus):                  0.000   Jarque-Bera (JB):             3850.401\n",
       "Skew:                          -0.407   Prob(JB):                         0.00\n",
       "Kurtosis:                       5.830   Cond. No.                     6.90e+03\n",
       "==============================================================================\n",
       "\n",
       "Notes:\n",
       "[1] Standard Errors assume that the covariance matrix of the errors is correctly specified.\n",
       "[2] The condition number is large, 6.9e+03. This might indicate that there are\n",
       "strong multicollinearity or other numerical problems.\n",
       "\"\"\""
      ]
     },
     "execution_count": 50,
     "metadata": {},
     "output_type": "execute_result"
    }
   ],
   "source": [
    "Xc = sm.add_constant(X)\n",
    "model = sm.OLS(y_trans, Xc)\n",
    "model = model.fit()\n",
    "model.summary()"
   ]
  },
  {
   "cell_type": "code",
   "execution_count": 51,
   "id": "5055a0bc",
   "metadata": {},
   "outputs": [
    {
     "data": {
      "text/plain": [
       "const                             2.08\n",
       "total_sqft                        0.00\n",
       "dist_from_city                   -0.01\n",
       "area_type_Plot  Area              0.13\n",
       "availability_UnderConstruction   -0.01\n",
       "dtype: float64"
      ]
     },
     "execution_count": 51,
     "metadata": {},
     "output_type": "execute_result"
    }
   ],
   "source": [
    "round(model.params,2)"
   ]
  },
  {
   "cell_type": "code",
   "execution_count": 52,
   "id": "b3008725",
   "metadata": {
    "scrolled": true
   },
   "outputs": [
    {
     "data": {
      "image/png": "[encoded data removed]",
      "text/plain": [
       "<Figure size 432x288 with 1 Axes>"
      ]
     },
     "metadata": {
      "needs_background": "light"
     },
     "output_type": "display_data"
    }
   ],
   "source": [
    "sns.residplot(model.predict(), model.resid)\n",
    "plt.xlabel('Y Pred')\n",
    "plt.ylabel('Residue')\n",
    "plt.show()"
   ]
  },
  {
   "cell_type": "markdown",
   "id": "ab631a9e",
   "metadata": {},
   "source": [
    "The model is homescedasticity"
   ]
  },
  {
   "cell_type": "code",
   "execution_count": 53,
   "id": "6c1954e5",
   "metadata": {},
   "outputs": [
    {
     "data": {
      "text/plain": [
       "0.39792200929774557"
      ]
     },
     "execution_count": 53,
     "metadata": {},
     "output_type": "execute_result"
    }
   ],
   "source": [
    "from statsmodels.stats.diagnostic import linear_rainbow\n",
    "\n",
    "_,p = linear_rainbow(res=model, frac=0.5)\n",
    "p"
   ]
  },
  {
   "cell_type": "markdown",
   "id": "6b252199",
   "metadata": {},
   "source": [
    "The model is linear"
   ]
  },
  {
   "cell_type": "code",
   "execution_count": 54,
   "id": "f9d0a2af",
   "metadata": {},
   "outputs": [
    {
     "data": {
      "text/plain": [
       "-0.40691450860278205"
      ]
     },
     "execution_count": 54,
     "metadata": {},
     "output_type": "execute_result"
    }
   ],
   "source": [
    "model.resid.skew()"
   ]
  },
  {
   "cell_type": "markdown",
   "id": "d6a37bfa",
   "metadata": {},
   "source": [
    "* The normality assumption is satisfied\n",
    "* No autocorrelation exist"
   ]
  },
  {
   "cell_type": "code",
   "execution_count": 55,
   "id": "450f42fa",
   "metadata": {
    "scrolled": false
   },
   "outputs": [
    {
     "name": "stdout",
     "output_type": "stream",
     "text": [
      "(8524, 4) (2132, 4) (8524,) (2132,)\n",
      "Test R2 score: 68.63%\n",
      "\n",
      "Coefficients:\n",
      "total_sqft - 0.0\n",
      "dist_from_city - -0.01\n",
      "area_type_Plot  Area - 0.13\n",
      "availability_UnderConstruction - -0.01\n",
      "B0 - 2.08\n",
      "\n",
      "Predicted Values:\n",
      "[2.23, 2.56, 2.32, 2.2, 2.26]\n",
      "\n",
      " Actual Values:\n",
      "154     2.214752\n",
      "4413    2.567866\n",
      "9619    2.409980\n",
      "5441    2.134190\n",
      "8624    2.284144\n",
      "dtype: float64\n",
      "\n",
      "Test R-square - 68.63%\n",
      "Train R-square - 68.58%\n",
      "R2 Train - R2 Test = -0.06%\n",
      "RMSE - 128.2\n"
     ]
    }
   ],
   "source": [
    "from sklearn.linear_model import LinearRegression\n",
    "from sklearn.metrics import r2_score, mean_squared_error\n",
    "\n",
    "xtrain, xvalid, ytrain, yvalid = train_test_split(X, y_trans, test_size=0.2, random_state=0)\n",
    "print(xtrain.shape, xvalid.shape, ytrain.shape, yvalid.shape)\n",
    "\n",
    "lr_mod = LinearRegression()\n",
    "lr_mod.fit(xtrain, ytrain)\n",
    "\n",
    "print('Test R2 score: {:.2%}\\n'.format(lr_mod.score(xvalid, yvalid)))\n",
    "print('Coefficients:')\n",
    "for col,coef in zip(xtrain.columns, lr_mod.coef_):\n",
    "    print(col,'-',round(coef,2))\n",
    "    \n",
    "print('B0 - {:.2f}'.format(lr_mod.intercept_))\n",
    "ypred = lr_mod.predict(xvalid)\n",
    "print(\"\\nPredicted Values:\\n{}\".format([round(pred,2) for pred in ypred[:5]]))\n",
    "print(\"\\n Actual Values:\\n{}\".format(yvalid[:5]))\n",
    "\n",
    "\n",
    "r2 = r2_score(yvalid, ypred)\n",
    "print('\\nTest R-square - {:.2%}'.format(r2))\n",
    "ypred_train = lr_mod.predict(xtrain)\n",
    "r2_train = r2_score(ytrain, ypred_train)\n",
    "print('Train R-square - {:.2%}'.format(r2_train))\n",
    "print(\"R2 Train - R2 Test = {:.2%}\".format(r2_train - r2))\n",
    "\n",
    "def get_rmse(ypred,yvalid,param):\n",
    "    inv_ypred = inv_boxcox(ypred, param)\n",
    "    inv_yvalid = inv_boxcox(yvalid, param)\n",
    "    inv_rmse = np.sqrt(np.sum((inv_ypred-inv_yvalid)**2)/len(yvalid))\n",
    "    return inv_rmse\n",
    "\n",
    "print('RMSE - {:.1f}'.format(get_rmse(ypred,yvalid,param)))"
   ]
  },
  {
   "cell_type": "code",
   "execution_count": 56,
   "id": "eb56cef9",
   "metadata": {},
   "outputs": [],
   "source": [
    "from sklearn.model_selection import cross_val_score\n",
    "def do_cross_val(input_df, out, estimator=LinearRegression()):\n",
    "    r2_scores = cross_val_score(estimator, input_df, out, cv=5, scoring='r2')\n",
    "    # print(\"R2 Scores: {}\".format([\"{:.1%}\".format(r2_score) for r2_score in r2_scores]))\n",
    "    r2_avg = np.mean(r2_scores)\n",
    "    print(\"\\nAverage R2 Score: {:.1%}\".format(r2_avg))\n",
    "    coef_var = r2_scores.std()/r2_avg\n",
    "    print(\"\\nCoefficient of Variance of the R2 scores: {:.1%}\".format(coef_var))"
   ]
  },
  {
   "cell_type": "code",
   "execution_count": 57,
   "id": "9d8e82d6",
   "metadata": {
    "scrolled": true
   },
   "outputs": [
    {
     "name": "stdout",
     "output_type": "stream",
     "text": [
      "\n",
      "Average R2 Score: 68.5%\n",
      "\n",
      "Coefficient of Variance of the R2 scores: 2.3%\n"
     ]
    }
   ],
   "source": [
    "do_cross_val(X, y_trans)"
   ]
  },
  {
   "cell_type": "code",
   "execution_count": 58,
   "id": "65f099b0",
   "metadata": {},
   "outputs": [],
   "source": [
    "def build_ols_model(inp,out):\n",
    "    inpc = sm.add_constant(data=inp)\n",
    "    mod = sm.OLS(endog=out, exog=inpc)\n",
    "    ols_mod = mod.fit()\n",
    "    return ols_mod"
   ]
  },
  {
   "cell_type": "markdown",
   "id": "d4e5d90f",
   "metadata": {},
   "source": [
    "# Build model with Poly Features - 4"
   ]
  },
  {
   "cell_type": "code",
   "execution_count": 59,
   "id": "64cc325f",
   "metadata": {
    "scrolled": true
   },
   "outputs": [
    {
     "name": "stdout",
     "output_type": "stream",
     "text": [
      "R2 score: 70.8%\n",
      "RMSE: 106.44\n",
      "\n",
      "Average R2 Score: 70.7%\n",
      "\n",
      "Coefficient of Variance of the R2 scores: 2.1%\n"
     ]
    }
   ],
   "source": [
    "from sklearn.preprocessing import PolynomialFeatures\n",
    "pf = PolynomialFeatures(degree=2, include_bias=False, interaction_only=True)\n",
    "inp_pf_df = pf.fit_transform(X)\n",
    "inp_pf_df = pd.DataFrame(inp_pf_df, columns=pf.get_feature_names())\n",
    "# build model with polynomial features\n",
    "mod = build_ols_model(inp_pf_df, y_trans)\n",
    "print(\"R2 score: {:.1%}\".format(mod.rsquared))\n",
    "ypred = mod.predict(sm.add_constant(inp_pf_df))\n",
    "print(\"RMSE: {:.2f}\".format(get_rmse(ypred,y_trans,param)))\n",
    "do_cross_val(inp_pf_df, y_trans)"
   ]
  },
  {
   "cell_type": "markdown",
   "id": "24a7f282",
   "metadata": {},
   "source": [
    "* 109 -> after transforming output variable and removing columns with pvalue<0.05 -> \n",
    "* 102 -> after removing multicollinearity -> 128 -> after adding polynomial features -> 106"
   ]
  },
  {
   "cell_type": "code",
   "execution_count": 60,
   "id": "8dc787b3",
   "metadata": {
    "scrolled": true
   },
   "outputs": [
    {
     "name": "stdout",
     "output_type": "stream",
     "text": [
      "Selected Features: ['x0', 'x1', 'x2', 'x3', 'x0 x1', 'x0 x2', 'x0 x3', 'x1 x2', 'x2 x3']\n",
      "Dropped Features: ['x1 x3']\n",
      "R2 score 70.7%\n",
      "\n",
      "Average R2 Score: 70.7%\n",
      "\n",
      "Coefficient of Variance of the R2 scores: 2.0%\n",
      "RMSE: 106.39\n"
     ]
    }
   ],
   "source": [
    "from mlxtend.feature_selection import SequentialFeatureSelector as sfs\n",
    "\n",
    "# Backward Elimination\n",
    "lr = LinearRegression()\n",
    "lr_backward = sfs(estimator = lr, k_features = 'best', scoring='r2', forward=False)\n",
    "sfs_backward = lr_backward.fit(inp_pf_df, y_trans)\n",
    "feat_back = list(sfs_backward.k_feature_names_)\n",
    "print(\"Selected Features: {}\".format(feat_back))\n",
    "dropped_features = inp_pf_df.columns.tolist()\n",
    "[dropped_features.remove(x) for x in feat_back]\n",
    "print(\"Dropped Features: {}\".format(dropped_features))\n",
    "print(\"R2 score {:.1%}\".format(sfs_backward.k_score_))\n",
    "\n",
    "do_cross_val(inp_pf_df[feat_back], y_trans)\n",
    "mod = build_ols_model(inp_pf_df[feat_back], y_trans)\n",
    "ypred = mod.predict(sm.add_constant(inp_pf_df[feat_back]))\n",
    "print(\"RMSE: {:.2f}\".format(get_rmse(ypred,y_trans,param)))"
   ]
  },
  {
   "cell_type": "markdown",
   "id": "87357a86",
   "metadata": {},
   "source": [
    "# Save the model as Pickle"
   ]
  },
  {
   "cell_type": "code",
   "execution_count": 61,
   "id": "22e842c9",
   "metadata": {},
   "outputs": [],
   "source": [
    "import pickle\n",
    "# Create a file to pickle and open it in write mode\n",
    "model_pickle = open(file='ols_model.pkl', mode='wb')\n",
    "pickle.dump(obj=mod, file=model_pickle)\n",
    "model_pickle.close()"
   ]
  },
  {
   "cell_type": "code",
   "execution_count": 62,
   "id": "9528b9bc",
   "metadata": {},
   "outputs": [
    {
     "name": "stdout",
     "output_type": "stream",
     "text": [
      "Features used: ['total_sqft', 'dist_from_city', 'area_type_Plot  Area', 'availability_UnderConstruction']\n",
      "R Squared: 70.82%\n",
      "RMSE: 106.39\n",
      "const    2.084913\n",
      "x0       0.000205\n",
      "x1      -0.008853\n",
      "x2       0.334582\n",
      "x3      -0.021424\n",
      "x0 x1    0.000003\n",
      "x0 x2   -0.000093\n",
      "x0 x3    0.000013\n",
      "x1 x2   -0.004576\n",
      "x2 x3   -0.043312\n",
      "dtype: float64\n"
     ]
    }
   ],
   "source": [
    "# from sklearn.metrics import score\n",
    "model_pickle = open(file='ols_model.pkl', mode='rb')\n",
    "# load the pickle object into a model object\n",
    "ols_mod = pickle.load(file=model_pickle)\n",
    "print('Features used: {}'.format(X.columns.tolist()))\n",
    "print(\"R Squared: {:.2%}\".format(ols_mod.rsquared))\n",
    "ypred = ols_mod.predict(sm.add_constant(inp_pf_df[feat_back]))\n",
    "print(\"RMSE: {:.2f}\".format(get_rmse(ypred, y_trans, param)))\n",
    "print(ols_mod.params)"
   ]
  },
  {
   "cell_type": "markdown",
   "id": "1953c6d2",
   "metadata": {},
   "source": [
    "# Read Test Data"
   ]
  },
  {
   "cell_type": "code",
   "execution_count": 63,
   "id": "00edfa3e",
   "metadata": {
    "scrolled": true
   },
   "outputs": [
    {
     "name": "stdout",
     "output_type": "stream",
     "text": [
      "(2664, 9)\n"
     ]
    },
    {
     "data": {
      "text/html": [
       "<div>\n",
       "<style scoped>\n",
       "    .dataframe tbody tr th:only-of-type {\n",
       "        vertical-align: middle;\n",
       "    }\n",
       "\n",
       "    .dataframe tbody tr th {\n",
       "        vertical-align: top;\n",
       "    }\n",
       "\n",
       "    .dataframe thead th {\n",
       "        text-align: right;\n",
       "    }\n",
       "</style>\n",
       "<table border=\"1\" class=\"dataframe\">\n",
       "  <thead>\n",
       "    <tr style=\"text-align: right;\">\n",
       "      <th></th>\n",
       "      <th>ID</th>\n",
       "      <th>area_type</th>\n",
       "      <th>availability</th>\n",
       "      <th>location</th>\n",
       "      <th>size</th>\n",
       "      <th>society</th>\n",
       "      <th>total_sqft</th>\n",
       "      <th>bath</th>\n",
       "      <th>balcony</th>\n",
       "    </tr>\n",
       "  </thead>\n",
       "  <tbody>\n",
       "    <tr>\n",
       "      <th>0</th>\n",
       "      <td>0</td>\n",
       "      <td>Super built-up  Area</td>\n",
       "      <td>Ready To Move</td>\n",
       "      <td>Chamrajpet</td>\n",
       "      <td>2 BHK</td>\n",
       "      <td>NaN</td>\n",
       "      <td>650</td>\n",
       "      <td>1.0</td>\n",
       "      <td>1.0</td>\n",
       "    </tr>\n",
       "    <tr>\n",
       "      <th>1</th>\n",
       "      <td>1</td>\n",
       "      <td>Super built-up  Area</td>\n",
       "      <td>Ready To Move</td>\n",
       "      <td>7th Phase JP Nagar</td>\n",
       "      <td>3 BHK</td>\n",
       "      <td>SrncyRe</td>\n",
       "      <td>1370</td>\n",
       "      <td>2.0</td>\n",
       "      <td>1.0</td>\n",
       "    </tr>\n",
       "    <tr>\n",
       "      <th>2</th>\n",
       "      <td>2</td>\n",
       "      <td>Super built-up  Area</td>\n",
       "      <td>Ready To Move</td>\n",
       "      <td>Whitefield</td>\n",
       "      <td>3 BHK</td>\n",
       "      <td>AjhalNa</td>\n",
       "      <td>1725</td>\n",
       "      <td>3.0</td>\n",
       "      <td>2.0</td>\n",
       "    </tr>\n",
       "    <tr>\n",
       "      <th>3</th>\n",
       "      <td>3</td>\n",
       "      <td>Built-up  Area</td>\n",
       "      <td>Ready To Move</td>\n",
       "      <td>Jalahalli</td>\n",
       "      <td>2 BHK</td>\n",
       "      <td>NaN</td>\n",
       "      <td>1000</td>\n",
       "      <td>2.0</td>\n",
       "      <td>0.0</td>\n",
       "    </tr>\n",
       "    <tr>\n",
       "      <th>4</th>\n",
       "      <td>4</td>\n",
       "      <td>Plot  Area</td>\n",
       "      <td>Ready To Move</td>\n",
       "      <td>TC Palaya</td>\n",
       "      <td>1 Bedroom</td>\n",
       "      <td>NaN</td>\n",
       "      <td>1350</td>\n",
       "      <td>1.0</td>\n",
       "      <td>0.0</td>\n",
       "    </tr>\n",
       "  </tbody>\n",
       "</table>\n",
       "</div>"
      ],
      "text/plain": [
       "   ID             area_type   availability            location       size  \\\n",
       "0   0  Super built-up  Area  Ready To Move          Chamrajpet      2 BHK   \n",
       "1   1  Super built-up  Area  Ready To Move  7th Phase JP Nagar      3 BHK   \n",
       "2   2  Super built-up  Area  Ready To Move          Whitefield      3 BHK   \n",
       "3   3        Built-up  Area  Ready To Move           Jalahalli      2 BHK   \n",
       "4   4            Plot  Area  Ready To Move           TC Palaya  1 Bedroom   \n",
       "\n",
       "   society total_sqft  bath  balcony  \n",
       "0      NaN        650   1.0      1.0  \n",
       "1  SrncyRe       1370   2.0      1.0  \n",
       "2  AjhalNa       1725   3.0      2.0  \n",
       "3      NaN       1000   2.0      0.0  \n",
       "4      NaN       1350   1.0      0.0  "
      ]
     },
     "execution_count": 63,
     "metadata": {},
     "output_type": "execute_result"
    }
   ],
   "source": [
    "tdf = pd.read_csv('test.csv')\n",
    "print(tdf.shape)\n",
    "tdf.head()"
   ]
  },
  {
   "cell_type": "code",
   "execution_count": 64,
   "id": "8cf9b123",
   "metadata": {},
   "outputs": [
    {
     "data": {
      "text/html": [
       "<div>\n",
       "<style scoped>\n",
       "    .dataframe tbody tr th:only-of-type {\n",
       "        vertical-align: middle;\n",
       "    }\n",
       "\n",
       "    .dataframe tbody tr th {\n",
       "        vertical-align: top;\n",
       "    }\n",
       "\n",
       "    .dataframe thead th {\n",
       "        text-align: right;\n",
       "    }\n",
       "</style>\n",
       "<table border=\"1\" class=\"dataframe\">\n",
       "  <thead>\n",
       "    <tr style=\"text-align: right;\">\n",
       "      <th></th>\n",
       "      <th>x0</th>\n",
       "      <th>x1</th>\n",
       "      <th>x2</th>\n",
       "      <th>x3</th>\n",
       "      <th>x0 x1</th>\n",
       "      <th>x0 x2</th>\n",
       "      <th>x0 x3</th>\n",
       "      <th>x1 x2</th>\n",
       "      <th>x2 x3</th>\n",
       "    </tr>\n",
       "  </thead>\n",
       "  <tbody>\n",
       "    <tr>\n",
       "      <th>0</th>\n",
       "      <td>650.0</td>\n",
       "      <td>6.7</td>\n",
       "      <td>0.0</td>\n",
       "      <td>0.0</td>\n",
       "      <td>4355.0</td>\n",
       "      <td>0.0</td>\n",
       "      <td>0.0</td>\n",
       "      <td>0.0</td>\n",
       "      <td>0.0</td>\n",
       "    </tr>\n",
       "    <tr>\n",
       "      <th>1</th>\n",
       "      <td>1370.0</td>\n",
       "      <td>11.0</td>\n",
       "      <td>0.0</td>\n",
       "      <td>0.0</td>\n",
       "      <td>15070.0</td>\n",
       "      <td>0.0</td>\n",
       "      <td>0.0</td>\n",
       "      <td>0.0</td>\n",
       "      <td>0.0</td>\n",
       "    </tr>\n",
       "    <tr>\n",
       "      <th>2</th>\n",
       "      <td>1725.0</td>\n",
       "      <td>17.3</td>\n",
       "      <td>0.0</td>\n",
       "      <td>0.0</td>\n",
       "      <td>29842.5</td>\n",
       "      <td>0.0</td>\n",
       "      <td>0.0</td>\n",
       "      <td>0.0</td>\n",
       "      <td>0.0</td>\n",
       "    </tr>\n",
       "    <tr>\n",
       "      <th>3</th>\n",
       "      <td>1000.0</td>\n",
       "      <td>16.6</td>\n",
       "      <td>0.0</td>\n",
       "      <td>0.0</td>\n",
       "      <td>16600.0</td>\n",
       "      <td>0.0</td>\n",
       "      <td>0.0</td>\n",
       "      <td>0.0</td>\n",
       "      <td>0.0</td>\n",
       "    </tr>\n",
       "    <tr>\n",
       "      <th>4</th>\n",
       "      <td>1350.0</td>\n",
       "      <td>12.2</td>\n",
       "      <td>1.0</td>\n",
       "      <td>0.0</td>\n",
       "      <td>16470.0</td>\n",
       "      <td>1350.0</td>\n",
       "      <td>0.0</td>\n",
       "      <td>12.2</td>\n",
       "      <td>0.0</td>\n",
       "    </tr>\n",
       "  </tbody>\n",
       "</table>\n",
       "</div>"
      ],
      "text/plain": [
       "       x0    x1   x2   x3    x0 x1   x0 x2  x0 x3  x1 x2  x2 x3\n",
       "0   650.0   6.7  0.0  0.0   4355.0     0.0    0.0    0.0    0.0\n",
       "1  1370.0  11.0  0.0  0.0  15070.0     0.0    0.0    0.0    0.0\n",
       "2  1725.0  17.3  0.0  0.0  29842.5     0.0    0.0    0.0    0.0\n",
       "3  1000.0  16.6  0.0  0.0  16600.0     0.0    0.0    0.0    0.0\n",
       "4  1350.0  12.2  1.0  0.0  16470.0  1350.0    0.0   12.2    0.0"
      ]
     },
     "execution_count": 64,
     "metadata": {},
     "output_type": "execute_result"
    }
   ],
   "source": [
    "test_df = tdf.copy()\n",
    "test_df['availability'] = test_df['availability'].apply(lambda x: find_alpha(x))\n",
    "test_df['size'] = test_df['size'].str.replace('Bedroom','BHK')\n",
    "test_df['size'] = test_df['size'].str.replace('1 RK','0')\n",
    "\n",
    "test_df['units'] = test_df['total_sqft'].apply(lambda x: find_alpha(x))\n",
    "test_df.loc[test_df['units']=='','units']='sqft'\n",
    "test_df['availability'].replace(['Dec', 'May', 'Feb', 'Nov', 'Oct', 'Sep', 'Mar', 'Apr', 'Aug', 'Jun', 'Jan', 'Jul'], \n",
    "                                 'UnderConstruction', inplace=True)\n",
    "unit_lst = ['Sq. Meter', 'Perch', 'Sq. Yards', 'Acres', 'Cents', 'Guntha','Grounds']\n",
    "# remove the unit from the sq ft column\n",
    "for unit in unit_lst:\n",
    "    test_df['total_sqft'] = test_df['total_sqft'].str.replace(unit,'')\n",
    "\n",
    "# verify there is no unit in sq ft column after removing it\n",
    "sr = test_df['total_sqft'].apply(lambda x: find_alpha(x))\n",
    "# if there are 2 sqft values seperated by '-', take the average of them\n",
    "test_df['total_sqft'] = test_df['total_sqft'].str.split('-').apply(lambda x: (float(x[0])+float(x[-1]))/2)\n",
    "# convert all into sq m\n",
    "unit_lst = test_df['units'].unique().tolist()\n",
    "test_df['total_sqft'] = test_df[['total_sqft','units']].apply(lambda x: cal_sqft(x,unit_lst), axis=1)\n",
    "test_df = test_df.drop(columns=['units'])\n",
    "test_df = test_df.merge(rent_df, on='location',how='left')\n",
    "test_df = test_df.merge(dist_df, on='location', how='left')\n",
    "test_df = test_df.drop(columns=['society','ID'])\n",
    "\n",
    "# filling missing values\n",
    "test_df['size'] = test_df['size'].fillna(test_df['size'].mode()[0])\n",
    "\n",
    "# data cleaning\n",
    "test_df['size'] = test_df['size'].str.extract('(\\d+)')\n",
    "test_df['size'] = test_df['size'].astype(int)\n",
    "\n",
    "# filling missing values\n",
    "test_df['balcony'] = test_df['balcony'].fillna(test_df['balcony'].mode()[0])\n",
    "test_df['location'] = test_df['location'].fillna(test_df['location'].mode()[0])\n",
    "test_df['bath'] = test_df['bath'].fillna(test_df['bath'].mode()[0])\n",
    "\n",
    "# data formating\n",
    "test_df['bath'] = test_df['bath'].astype(int)\n",
    "test_df['balcony'] = test_df['balcony'].astype(int)\n",
    "\n",
    "impu = KNNImputer() \n",
    "impu_df = test_df[['avg_2bhk_rent','dist_from_city']].copy()\n",
    "impu_arr = impu.fit_transform(impu_df)\n",
    "impu_df = pd.DataFrame(impu_arr, columns=impu_df.columns) \n",
    "test_df['avg_2bhk_rent'] = test_df['avg_2bhk_rent'].fillna(round(impu_df['avg_2bhk_rent']))\n",
    "test_df['dist_from_city'] = test_df['dist_from_city'].fillna(round(impu_df['dist_from_city'],1))\n",
    "\n",
    "test_df = test_df.drop(columns=['location'])\n",
    "test_df = pd.get_dummies(test_df)\n",
    "out_test_df = test_df.copy()\n",
    "out_test_df = out_test_df.drop(columns=['availability_ImmediatePossession','area_type_Carpet  Area'])\n",
    "for col in ['size', 'bath', 'total_sqft','avg_2bhk_rent','dist_from_city']:\n",
    "    q1 = test_df[col].quantile(0.25)\n",
    "    q3 = test_df[col].quantile(0.75)\n",
    "    iqr = q3 - q1\n",
    "    lb = round(q1 - 1.5*iqr)\n",
    "    ub = round(q3 + 1.5*iqr)\n",
    "    out_test_df.loc[out_test_df[col]<lb, col] = lb\n",
    "    out_test_df.loc[out_test_df[col]>ub, col] = ub\n",
    "Xtest = out_test_df.drop(columns=['size', 'bath', 'availability_ReadyToMove']+pv_columns)\n",
    "pf = PolynomialFeatures(degree=2, include_bias=False, interaction_only=True)\n",
    "Xtest = pf.fit_transform(Xtest)\n",
    "Xtest = pd.DataFrame(Xtest, columns=pf.get_feature_names())\n",
    "Xtest.drop(columns='x1 x3', inplace=True)\n",
    "Xtest.head()"
   ]
  },
  {
   "cell_type": "code",
   "execution_count": 65,
   "id": "85fed6b9",
   "metadata": {},
   "outputs": [],
   "source": [
    "ypred = ols_mod.predict(sm.add_constant(Xtest))"
   ]
  },
  {
   "cell_type": "code",
   "execution_count": 66,
   "id": "1ce7da8f",
   "metadata": {
    "scrolled": true
   },
   "outputs": [
    {
     "data": {
      "text/html": [
       "<div>\n",
       "<style scoped>\n",
       "    .dataframe tbody tr th:only-of-type {\n",
       "        vertical-align: middle;\n",
       "    }\n",
       "\n",
       "    .dataframe tbody tr th {\n",
       "        vertical-align: top;\n",
       "    }\n",
       "\n",
       "    .dataframe thead th {\n",
       "        text-align: right;\n",
       "    }\n",
       "</style>\n",
       "<table border=\"1\" class=\"dataframe\">\n",
       "  <thead>\n",
       "    <tr style=\"text-align: right;\">\n",
       "      <th></th>\n",
       "      <th>ID</th>\n",
       "      <th>price</th>\n",
       "    </tr>\n",
       "  </thead>\n",
       "  <tbody>\n",
       "    <tr>\n",
       "      <th>0</th>\n",
       "      <td>0</td>\n",
       "      <td>2.170633</td>\n",
       "    </tr>\n",
       "    <tr>\n",
       "      <th>1</th>\n",
       "      <td>1</td>\n",
       "      <td>2.308781</td>\n",
       "    </tr>\n",
       "    <tr>\n",
       "      <th>2</th>\n",
       "      <td>2</td>\n",
       "      <td>2.364962</td>\n",
       "    </tr>\n",
       "    <tr>\n",
       "      <th>3</th>\n",
       "      <td>3</td>\n",
       "      <td>2.187240</td>\n",
       "    </tr>\n",
       "    <tr>\n",
       "      <th>4</th>\n",
       "      <td>4</td>\n",
       "      <td>2.450543</td>\n",
       "    </tr>\n",
       "  </tbody>\n",
       "</table>\n",
       "</div>"
      ],
      "text/plain": [
       "   ID     price\n",
       "0   0  2.170633\n",
       "1   1  2.308781\n",
       "2   2  2.364962\n",
       "3   3  2.187240\n",
       "4   4  2.450543"
      ]
     },
     "execution_count": 66,
     "metadata": {},
     "output_type": "execute_result"
    }
   ],
   "source": [
    "price_df = pd.DataFrame(ypred, columns=['price'])\n",
    "price_df.reset_index(names='ID', inplace=True)\n",
    "price_df.head()"
   ]
  },
  {
   "cell_type": "code",
   "execution_count": 68,
   "id": "00421c72",
   "metadata": {},
   "outputs": [],
   "source": [
    "price_df.to_csv('predictions.csv', index=False)"
   ]
  },
  {
   "cell_type": "code",
   "execution_count": null,
   "id": "0b0f642a",
   "metadata": {},
   "outputs": [],
   "source": []
  }
 ],
 "metadata": {
  "kernelspec": {
   "display_name": "Python 3 (ipykernel)",
   "language": "python",
   "name": "python3"
  },
  "language_info": {
   "codemirror_mode": {
    "name": "ipython",
    "version": 3
   },
   "file_extension": ".py",
   "mimetype": "text/x-python",
   "name": "python",
   "nbconvert_exporter": "python",
   "pygments_lexer": "ipython3",
   "version": "3.9.12"
  },
  "toc": {
   "base_numbering": 1,
   "nav_menu": {},
   "number_sections": true,
   "sideBar": true,
   "skip_h1_title": false,
   "title_cell": "Table of Contents",
   "title_sidebar": "Contents",
   "toc_cell": false,
   "toc_position": {
    "height": "calc(100% - 180px)",
    "left": "10px",
    "top": "150px",
    "width": "273.188px"
   },
   "toc_section_display": true,
   "toc_window_display": true
  },
  "varInspector": {
   "cols": {
    "lenName": 16,
    "lenType": 16,
    "lenVar": 40
   },
   "kernels_config": {
    "python": {
     "delete_cmd_postfix": "",
     "delete_cmd_prefix": "del ",
     "library": "var_list.py",
     "varRefreshCmd": "print(var_dic_list())"
    },
    "r": {
     "delete_cmd_postfix": ") ",
     "delete_cmd_prefix": "rm(",
     "library": "var_list.r",
     "varRefreshCmd": "cat(var_dic_list()) "
    }
   },
   "types_to_exclude": [
    "module",
    "function",
    "builtin_function_or_method",
    "instance",
    "_Feature"
   ],
   "window_display": false
  }
 },
 "nbformat": 4,
 "nbformat_minor": 5
}
